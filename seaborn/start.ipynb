{
 "cells": [
  {
   "cell_type": "code",
   "execution_count": 25,
   "id": "bdae8cf9",
   "metadata": {},
   "outputs": [],
   "source": [
    "import seaborn as sns\n",
    "import pandas as pd\n",
    "import numpy as np\n",
    "import matplotlib.pyplot as plt\n"
   ]
  },
  {
   "cell_type": "code",
   "execution_count": 26,
   "id": "4548ebff",
   "metadata": {},
   "outputs": [
    {
     "data": {
      "text/plain": [
       "island\n",
       "Biscoe       168\n",
       "Dream        124\n",
       "Torgersen     52\n",
       "Name: count, dtype: int64"
      ]
     },
     "execution_count": 26,
     "metadata": {},
     "output_type": "execute_result"
    }
   ],
   "source": [
    "sns.get_dataset_names()\n",
    "penguins = sns.load_dataset('penguins')\n",
    "# penguins.head()\n",
    "penguins['species'].value_counts()\n",
    "penguins['island'].value_counts()"
   ]
  },
  {
   "cell_type": "markdown",
   "id": "619696ed",
   "metadata": {},
   "source": []
  },
  {
   "cell_type": "code",
   "execution_count": null,
   "id": "b20623d1",
   "metadata": {},
   "outputs": [],
   "source": [
    "sns.set_style(\"darkgrid\")\n",
    "# sns.set_context(\"notebook\") # poster,talk,paper,notebook\n",
    "sns.scatterplot(data = penguins, x= \"flipper_length_mm\" , y=\"body_mass_g\",hue=\"island\",\n",
    "                palette=\"Dark2\"#Set1,Set2,Set3,Dark2\n",
    "                )\n",
    "sns.despine(left = True)"
   ]
  },
  {
   "cell_type": "markdown",
   "id": "4bb2d82e",
   "metadata": {},
   "source": [
    "Palette"
   ]
  },
  {
   "cell_type": "code",
   "execution_count": null,
   "id": "3a3d9b51",
   "metadata": {},
   "outputs": [],
   "source": [
    "sns.scatterplot(data = penguins, x=\"species\",y= \"body_mass_g\",hue = \"island\",style=\"sex\",\n",
    "                alpha=0.5 #reduces overlap\n",
    "                )"
   ]
  },
  {
   "cell_type": "markdown",
   "id": "257a183a",
   "metadata": {},
   "source": [
    "Strip plot"
   ]
  },
  {
   "cell_type": "code",
   "execution_count": null,
   "id": "5d7aa0b5",
   "metadata": {},
   "outputs": [],
   "source": [
    "sns.stripplot(data = penguins,x=\"species\",y=\"body_mass_g\",hue=\"island\",\n",
    "    dodge=True, #increases spread   \n",
    "    jitter=True      \n",
    "              )"
   ]
  },
  {
   "cell_type": "markdown",
   "id": "c21f9110",
   "metadata": {},
   "source": [
    "Swarm plot"
   ]
  },
  {
   "cell_type": "code",
   "execution_count": null,
   "id": "fc397e0b",
   "metadata": {},
   "outputs": [],
   "source": [
    "sns.set_context(\"talk\")\n",
    "sns.swarmplot(data = penguins,x=\"species\",y=\"body_mass_g\",hue=\"island\")\n",
    "sns.despine(left=True)"
   ]
  },
  {
   "cell_type": "markdown",
   "id": "4f60f187",
   "metadata": {},
   "source": [
    "Histogram"
   ]
  },
  {
   "cell_type": "code",
   "execution_count": null,
   "id": "3360cda6",
   "metadata": {},
   "outputs": [],
   "source": [
    "sns.set_style('ticks')\n",
    "sns.set_context(\"notebook\")\n",
    "sns.histplot(data=penguins, x='body_mass_g',hue=\"sex\",multiple=\"stack\")"
   ]
  },
  {
   "cell_type": "markdown",
   "id": "58961be6",
   "metadata": {},
   "source": [
    "Regression plot"
   ]
  },
  {
   "cell_type": "code",
   "execution_count": null,
   "id": "65e978eb",
   "metadata": {},
   "outputs": [],
   "source": [
    "sns.regplot(data=penguins,x=\"body_mass_g\", y=\"flipper_length_mm\",\n",
    "            # scatter=False #removes all data points\n",
    "            )"
   ]
  },
  {
   "cell_type": "markdown",
   "id": "64e85eb9",
   "metadata": {},
   "source": [
    "Line Plot"
   ]
  },
  {
   "cell_type": "code",
   "execution_count": null,
   "id": "38062f59",
   "metadata": {},
   "outputs": [],
   "source": [
    "sns.set_style('whitegrid')\n",
    "sns.lineplot(data=penguins, x=\"body_mass_g\",y =\"flipper_length_mm\", \n",
    "            hue=\"island\",style=\"sex\"\n",
    "             )\n"
   ]
  },
  {
   "cell_type": "markdown",
   "id": "3133822a",
   "metadata": {},
   "source": [
    "Join Plots"
   ]
  },
  {
   "cell_type": "code",
   "execution_count": null,
   "id": "fa6923a9",
   "metadata": {},
   "outputs": [],
   "source": [
    "sns.jointplot(data = penguins, x=\"body_mass_g\",y=\"flipper_length_mm\")"
   ]
  },
  {
   "cell_type": "code",
   "execution_count": null,
   "id": "8e1525e2",
   "metadata": {},
   "outputs": [],
   "source": [
    "# sns.jointplot(data = penguins, x=\"body_mass_g\",y=\"flipper_length_mm\", hue='island',kind='reg')\n",
    "sns.jointplot(data = penguins, x=\"body_mass_g\",y=\"flipper_length_mm\", kind='reg')\n",
    "\n"
   ]
  },
  {
   "cell_type": "markdown",
   "id": "a56003b8",
   "metadata": {},
   "source": [
    "Bar plot"
   ]
  },
  {
   "cell_type": "code",
   "execution_count": null,
   "id": "4b5b69d8",
   "metadata": {},
   "outputs": [],
   "source": [
    "# sns.barplot(data=penguins, x = \"species\",y=\"body_mass_g\",hue=\"sex\",palette=[\"pink\",\"skyblue\"])\n",
    "# sns.barplot(data=penguins, x = \"species\",y=\"body_mass_g\",hue=\"sex\",palette=[\"pink\",\"skyblue\"],estimator=np.sum)\n",
    "# sns.barplot(data=penguins, x = \"species\",y=\"body_mass_g\",hue=\"sex\",palette=[\"pink\",\"skyblue\"],estimator=np.median)\n",
    "# sns.barplot(data=penguins, x = \"species\",y=\"body_mass_g\",hue=\"sex\",palette=[\"pink\",\"skyblue\"],estimator=np.std)\n",
    "sns.barplot(data=penguins, x = \"species\",y=\"body_mass_g\",hue=\"sex\",palette=[\"pink\",\"skyblue\"],estimator=np.var)"
   ]
  },
  {
   "cell_type": "markdown",
   "id": "bbf2f387",
   "metadata": {},
   "source": [
    "CountPlot"
   ]
  },
  {
   "cell_type": "code",
   "execution_count": null,
   "id": "71a739f0",
   "metadata": {},
   "outputs": [],
   "source": [
    "sns.countplot(data=penguins,x=\"species\",hue=\"island\",palette=\"Set2\")"
   ]
  },
  {
   "cell_type": "markdown",
   "id": "965d3af7",
   "metadata": {},
   "source": [
    "Box Plot"
   ]
  },
  {
   "cell_type": "code",
   "execution_count": null,
   "id": "4a0020c5",
   "metadata": {},
   "outputs": [],
   "source": [
    "# sns.boxplot(data=penguins, x=\"species\",y=\"body_mass_g\",hue=\"island\")\n",
    "sns.boxplot(data=penguins, x = \"species\",y=\"body_mass_g\",hue=\"sex\")"
   ]
  },
  {
   "cell_type": "markdown",
   "id": "e937116e",
   "metadata": {},
   "source": [
    "Violin Plot"
   ]
  },
  {
   "cell_type": "code",
   "execution_count": null,
   "id": "2c1be933",
   "metadata": {},
   "outputs": [],
   "source": [
    "# sns.violinplot(data=penguins, x = \"species\",y=\"body_mass_g\",hue=\"sex\")\n",
    "sns.violinplot(data=penguins, x = \"species\",y=\"body_mass_g\",hue=\"sex\",split=True)"
   ]
  },
  {
   "cell_type": "code",
   "execution_count": null,
   "id": "c4c161a7",
   "metadata": {},
   "outputs": [],
   "source": [
    "sns.violinplot(data=penguins, x = \"species\",y=\"body_mass_g\",palette=\"pastel\")\n",
    "sns.swarmplot(data=penguins, x = \"species\",y=\"body_mass_g\",hue=\"island\",size=3,palette=\"dark\")"
   ]
  },
  {
   "cell_type": "markdown",
   "id": "bddd7443",
   "metadata": {},
   "source": [
    "KDEPLOT"
   ]
  },
  {
   "cell_type": "code",
   "execution_count": null,
   "id": "b5cdaaf3",
   "metadata": {},
   "outputs": [],
   "source": [
    "sns.kdeplot(data=penguins, x=\"body_mass_g\", hue=\"species\",fill=True)"
   ]
  },
  {
   "cell_type": "markdown",
   "id": "b40d0381",
   "metadata": {},
   "source": [
    "Heatmap"
   ]
  },
  {
   "cell_type": "code",
   "execution_count": null,
   "id": "fe2b4499",
   "metadata": {},
   "outputs": [],
   "source": [
    "columns = [\"bill_length_mm\",\"bill_depth_mm\",\"flipper_length_mm\",\"body_mass_g\"]\n",
    "# sns.heatmap(data=penguins[columns].corr())\n",
    "# sns.heatmap(data=penguins[columns].corr(),annot=True,cmap=\"Blues\")# darker color = negative co relation\n",
    "sns.heatmap(data=penguins[columns].corr(),annot= True,cmap=\"coolwarm\",vmin=-0.2,linewidths=2,linecolor=\"black\")"
   ]
  },
  {
   "cell_type": "markdown",
   "id": "2b2da6cb",
   "metadata": {},
   "source": [
    "Rug plot"
   ]
  },
  {
   "cell_type": "code",
   "execution_count": null,
   "id": "e5faa040",
   "metadata": {},
   "outputs": [],
   "source": [
    "sns.rugplot(data=penguins,x=\"body_mass_g\",hue=\"species\",palette=\"Set2\",height=0.2)"
   ]
  },
  {
   "cell_type": "markdown",
   "id": "1de1c651",
   "metadata": {},
   "source": [
    "Pair plot:Grid of plots"
   ]
  },
  {
   "cell_type": "code",
   "execution_count": null,
   "id": "0b1b5116",
   "metadata": {},
   "outputs": [],
   "source": [
    "#takes into consideration only the numerical plots\n",
    "# sns.pairplot(data=penguins[columns])\n",
    "# sns.pairplot(data=penguins, hue=\"sex\", palette=\"Set2\",diag_kind=\"kde\")\n",
    "sns.pairplot(data=penguins, hue=\"sex\", palette=\"Set2\",diag_kind=\"hist\")"
   ]
  },
  {
   "cell_type": "markdown",
   "id": "0150173f",
   "metadata": {},
   "source": [
    "Pair Grid:subplot grid for plotting pairwise relationships in a datasets"
   ]
  },
  {
   "cell_type": "code",
   "execution_count": null,
   "id": "f6cf026f",
   "metadata": {},
   "outputs": [],
   "source": [
    "graph= sns.PairGrid(data=penguins,hue=\"sex\",palette=\"Set2\")\n",
    "graph.map_upper(sns.scatterplot)\n",
    "graph.map_lower(sns.kdeplot)\n",
    "graph.map_diag(sns.histplot)\n",
    "graph.add_legend()"
   ]
  }
 ],
 "metadata": {
  "kernelspec": {
   "display_name": "myenv",
   "language": "python",
   "name": "python3"
  },
  "language_info": {
   "codemirror_mode": {
    "name": "ipython",
    "version": 3
   },
   "file_extension": ".py",
   "mimetype": "text/x-python",
   "name": "python",
   "nbconvert_exporter": "python",
   "pygments_lexer": "ipython3",
   "version": "3.12.6"
  }
 },
 "nbformat": 4,
 "nbformat_minor": 5
}
