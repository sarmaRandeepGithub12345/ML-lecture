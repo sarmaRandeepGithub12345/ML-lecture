{
 "cells": [
  {
   "cell_type": "code",
   "execution_count": 15,
   "id": "5d4a5611",
   "metadata": {},
   "outputs": [],
   "source": [
    "import pandas as pd\n",
    "data = {\n",
    "    \"Name\":['Ram',None,'Ravi','Dhanshyam','Shubam','Jagdish','Pravin','Nvain'],\n",
    "    \"Age\":[10,None,30,40,50,60,42,21],\n",
    "    \"Salary\":[50000,None,60000,65070,30000,99000,56000,10000],\n",
    "    \"Performance Score\":[90,None,80,60,88,96,78,83],\n",
    "}\n",
    "df = pd.DataFrame(data)"
   ]
  },
  {
   "cell_type": "markdown",
   "id": "18a728b8",
   "metadata": {},
   "source": [
    "CHECK IF DATA IS MISSING"
   ]
  },
  {
   "cell_type": "code",
   "execution_count": null,
   "id": "e0b252ce",
   "metadata": {},
   "outputs": [],
   "source": [
    "print(df.isnull())\n",
    "print(df.isnull().sum())"
   ]
  },
  {
   "cell_type": "markdown",
   "id": "ede6fd1a",
   "metadata": {},
   "source": [
    "DROP A ROW"
   ]
  },
  {
   "cell_type": "code",
   "execution_count": null,
   "id": "b576b855",
   "metadata": {},
   "outputs": [],
   "source": [
    "df.dropna(axis=0,inplace=True)\n",
    "print(df)"
   ]
  },
  {
   "cell_type": "markdown",
   "id": "93b47785",
   "metadata": {},
   "source": [
    "FILL MISSING DATA WITH DEFAULT DATA"
   ]
  },
  {
   "cell_type": "code",
   "execution_count": null,
   "id": "85602144",
   "metadata": {},
   "outputs": [],
   "source": [
    "df.fillna(0,inplace=True)\n",
    "print(df)"
   ]
  },
  {
   "cell_type": "markdown",
   "id": "37a0051f",
   "metadata": {},
   "source": [
    "FILL MISSING DATA WITH A CALCULATED DATA"
   ]
  },
  {
   "cell_type": "code",
   "execution_count": null,
   "id": "b9e73c6d",
   "metadata": {},
   "outputs": [],
   "source": [
    "df['Age'].fillna(df['Age'].mean(),inplace=True)\n",
    "df['Salary'].fillna(df['Salary'].mean(),inplace=True)\n",
    "\n",
    "print(df)"
   ]
  }
 ],
 "metadata": {
  "kernelspec": {
   "display_name": "myenv",
   "language": "python",
   "name": "python3"
  },
  "language_info": {
   "codemirror_mode": {
    "name": "ipython",
    "version": 3
   },
   "file_extension": ".py",
   "mimetype": "text/x-python",
   "name": "python",
   "nbconvert_exporter": "python",
   "pygments_lexer": "ipython3",
   "version": "3.12.6"
  }
 },
 "nbformat": 4,
 "nbformat_minor": 5
}
