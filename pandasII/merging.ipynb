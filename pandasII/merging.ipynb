{
 "cells": [
  {
   "cell_type": "code",
   "execution_count": 3,
   "id": "cdd15cf8",
   "metadata": {},
   "outputs": [],
   "source": [
    "import pandas as pd\n",
    "data = {\n",
    "    \"CustomerID\":[1,2,3,4,5,6,7,8],\n",
    "    \"Name\":['Ram','Shyam','Ravi','Dhanshyam','Shubam','Jagdish','Pravin','Nvain'],\n",
    "}\n",
    "df_customers = pd.DataFrame(data)\n",
    "datatwo = {\n",
    "    \"CustomerID\":[1,2,10,4,5,6,7,8],\n",
    "    \"OrderAmount\":[5000,199,395,2984,333,9348,2344,25959],\n",
    "}\n",
    "df_fraud = pd.DataFrame(datatwo)"
   ]
  },
  {
   "cell_type": "markdown",
   "id": "91c620ae",
   "metadata": {},
   "source": [
    "INNER JOIN"
   ]
  },
  {
   "cell_type": "code",
   "execution_count": null,
   "id": "f3839df9",
   "metadata": {},
   "outputs": [],
   "source": [
    "#removes all non matching values from both dataframes\n",
    "df_merged = pd.merge(df_customers,df_fraud,on=\"CustomerID\",how=\"inner\")\n",
    "print(df_merged)\n"
   ]
  },
  {
   "cell_type": "markdown",
   "id": "9bf9d7f2",
   "metadata": {},
   "source": [
    "OUTER JOIN"
   ]
  },
  {
   "cell_type": "code",
   "execution_count": 5,
   "id": "7c7e6de0",
   "metadata": {},
   "outputs": [
    {
     "name": "stdout",
     "output_type": "stream",
     "text": [
      "   CustomerID       Name  OrderAmount\n",
      "0           1        Ram       5000.0\n",
      "1           2      Shyam        199.0\n",
      "2           3       Ravi          NaN\n",
      "3           4  Dhanshyam       2984.0\n",
      "4           5     Shubam        333.0\n",
      "5           6    Jagdish       9348.0\n",
      "6           7     Pravin       2344.0\n",
      "7           8      Nvain      25959.0\n",
      "8          10        NaN        395.0\n"
     ]
    }
   ],
   "source": [
    "#files all non matching values from both dataframes with NaN\n",
    "df_merged = pd.merge(df_customers,df_fraud,on=\"CustomerID\",how=\"outer\")\n",
    "print(df_merged)"
   ]
  },
  {
   "cell_type": "markdown",
   "id": "8b1d5f4d",
   "metadata": {},
   "source": [
    "LEFT JOIN"
   ]
  },
  {
   "cell_type": "code",
   "execution_count": null,
   "id": "a24c87fd",
   "metadata": {},
   "outputs": [],
   "source": [
    "df_merged = pd.merge(df_customers,df_fraud,on=\"CustomerID\",how=\"left\")\n",
    "print(df_merged)"
   ]
  },
  {
   "cell_type": "markdown",
   "id": "8e8fc415",
   "metadata": {},
   "source": [
    "RIGHT JOIN"
   ]
  },
  {
   "cell_type": "code",
   "execution_count": null,
   "id": "c7d31772",
   "metadata": {},
   "outputs": [],
   "source": [
    "df_merged = pd.merge(df_customers,df_fraud,on=\"CustomerID\",how=\"right\")\n",
    "print(df_merged)"
   ]
  }
 ],
 "metadata": {
  "kernelspec": {
   "display_name": "myenv",
   "language": "python",
   "name": "python3"
  },
  "language_info": {
   "codemirror_mode": {
    "name": "ipython",
    "version": 3
   },
   "file_extension": ".py",
   "mimetype": "text/x-python",
   "name": "python",
   "nbconvert_exporter": "python",
   "pygments_lexer": "ipython3",
   "version": "3.12.6"
  }
 },
 "nbformat": 4,
 "nbformat_minor": 5
}
