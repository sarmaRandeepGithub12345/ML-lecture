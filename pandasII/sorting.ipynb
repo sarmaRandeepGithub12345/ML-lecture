{
 "cells": [
  {
   "cell_type": "code",
   "execution_count": 4,
   "id": "28320e3e",
   "metadata": {},
   "outputs": [],
   "source": [
    "import pandas as pd\n",
    "data = {\n",
    "    \"Name\":['Ram','Shyam','Ravi','Dhanshyam','Shubam','Jagdish','Pravin','Nvain'],\n",
    "    \"Age\":[42,21,30,40,10,20,60,50],\n",
    "    \"Salary\":[50000,99000,56000,45000,60000,65070,30000,10000],\n",
    "}\n",
    "df = pd.DataFrame(data)"
   ]
  },
  {
   "cell_type": "markdown",
   "id": "c2157255",
   "metadata": {},
   "source": [
    "SORT IN DESCENDING ORDER"
   ]
  },
  {
   "cell_type": "code",
   "execution_count": null,
   "id": "13eda704",
   "metadata": {},
   "outputs": [],
   "source": [
    "df.sort_values(by=\"Age\",ascending=False,inplace=True)\n",
    "print(df)"
   ]
  },
  {
   "cell_type": "markdown",
   "id": "93b5a6e6",
   "metadata": {},
   "source": [
    "SORTING MULTIPLE COLUMNS"
   ]
  },
  {
   "cell_type": "code",
   "execution_count": null,
   "id": "20318d77",
   "metadata": {},
   "outputs": [],
   "source": [
    "#This property should not exist very doubtfull \n",
    "df.sort_values(by=[\"Age\",\"Salary\"],ascending=[True,True],inplace=True)\n",
    "print(df)"
   ]
  }
 ],
 "metadata": {
  "kernelspec": {
   "display_name": "myenv",
   "language": "python",
   "name": "python3"
  },
  "language_info": {
   "codemirror_mode": {
    "name": "ipython",
    "version": 3
   },
   "file_extension": ".py",
   "mimetype": "text/x-python",
   "name": "python",
   "nbconvert_exporter": "python",
   "pygments_lexer": "ipython3",
   "version": "3.12.6"
  }
 },
 "nbformat": 4,
 "nbformat_minor": 5
}
