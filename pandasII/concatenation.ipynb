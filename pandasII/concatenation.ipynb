{
 "cells": [
  {
   "cell_type": "code",
   "execution_count": 1,
   "id": "d17bb148",
   "metadata": {},
   "outputs": [],
   "source": [
    "import pandas as pd\n",
    "\n",
    "df_Region1= pd.DataFrame({\n",
    "    \"CustomerID\":[1,2],\n",
    "    \"Name\":[\"Gopal\",\"Raju\"]\n",
    "})\n",
    "df_Region2= pd.DataFrame({\n",
    "    \"CustomerID\":[3,4],\n",
    "    \"Name\":[\"Ravi\",\"Chandan\"]\n",
    "})"
   ]
  },
  {
   "cell_type": "markdown",
   "id": "0f608714",
   "metadata": {},
   "source": [
    "CONCATENATE VERTICALLY"
   ]
  },
  {
   "cell_type": "code",
   "execution_count": null,
   "id": "22e35342",
   "metadata": {},
   "outputs": [],
   "source": [
    "df_concat = pd.concat([df_Region1,df_Region2])\n",
    "print(df_concat)"
   ]
  },
  {
   "cell_type": "markdown",
   "id": "fc9da1c6",
   "metadata": {},
   "source": [
    "CONCATENATE HORIZONTALLY"
   ]
  },
  {
   "cell_type": "code",
   "execution_count": 3,
   "id": "0af199ea",
   "metadata": {},
   "outputs": [
    {
     "name": "stdout",
     "output_type": "stream",
     "text": [
      "   CustomerID   Name  CustomerID     Name\n",
      "0           1  Gopal           3     Ravi\n",
      "1           2   Raju           4  Chandan\n"
     ]
    }
   ],
   "source": [
    "df_concat = pd.concat([df_Region1,df_Region2],axis=1)\n",
    "print(df_concat)"
   ]
  }
 ],
 "metadata": {
  "kernelspec": {
   "display_name": "myenv",
   "language": "python",
   "name": "python3"
  },
  "language_info": {
   "codemirror_mode": {
    "name": "ipython",
    "version": 3
   },
   "file_extension": ".py",
   "mimetype": "text/x-python",
   "name": "python",
   "nbconvert_exporter": "python",
   "pygments_lexer": "ipython3",
   "version": "3.12.6"
  }
 },
 "nbformat": 4,
 "nbformat_minor": 5
}
