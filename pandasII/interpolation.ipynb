{
 "cells": [
  {
   "cell_type": "code",
   "execution_count": null,
   "id": "13e29101",
   "metadata": {},
   "outputs": [],
   "source": [
    "import pandas as pd\n",
    "olddata = {\n",
    "    \"Name\":['Ram','Shyam','Ravi','Dhanshyam','Shubam','Jagdish','Pravin','Nvain'],\n",
    "    \"Age\":[10,None,30,40,50,60,42,21],\n",
    "    \"Salary\":[50000,None,60000,65070,30000,99000,56000,10000],\n",
    "    \"Performance Score\":[90,None,80,60,88,96,78,83],\n",
    "}\n",
    "df = pd.DataFrame(olddata)"
   ]
  },
  {
   "cell_type": "code",
   "execution_count": null,
   "id": "f4afca08",
   "metadata": {},
   "outputs": [],
   "source": [
    "df.interpolate(method=\"linear\",axis=0,inplace=True)\n",
    "print(df)"
   ]
  },
  {
   "cell_type": "code",
   "execution_count": null,
   "id": "b23a294a",
   "metadata": {},
   "outputs": [],
   "source": [
    "newdata = {\n",
    "    \"Time\":[1,2,3,4,5],\n",
    "    \"Value\":[10,None,30,None,50]\n",
    "}\n",
    "df = pd.DataFrame(newdata)\n",
    "df['Value'] = df['Value'].interpolate(method=\"linear\")\n",
    "print(df)"
   ]
  }
 ],
 "metadata": {
  "kernelspec": {
   "display_name": "myenv",
   "language": "python",
   "name": "python3"
  },
  "language_info": {
   "codemirror_mode": {
    "name": "ipython",
    "version": 3
   },
   "file_extension": ".py",
   "mimetype": "text/x-python",
   "name": "python",
   "nbconvert_exporter": "python",
   "pygments_lexer": "ipython3",
   "version": "3.12.6"
  }
 },
 "nbformat": 4,
 "nbformat_minor": 5
}
