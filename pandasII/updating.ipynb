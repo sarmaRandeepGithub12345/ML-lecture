{
 "cells": [
  {
   "cell_type": "code",
   "execution_count": 16,
   "id": "c058e791",
   "metadata": {},
   "outputs": [],
   "source": [
    "import pandas as pd\n",
    "data = {\n",
    "    \"Name\":['Ram','Shyam','Ravi','Dhanshyam','Shubam','Jagdish','Pravin','Nvain'],\n",
    "    \"Age\":[10,20,30,40,50,60,42,21],\n",
    "    \"Salary\":[50000,45000,60000,65070,30000,99000,56000,10000],\n",
    "    \"Performance Score\":[90,91,80,60,88,96,78,83],\n",
    "}\n",
    "df = pd.DataFrame(data)"
   ]
  },
  {
   "cell_type": "markdown",
   "id": "38d440d4",
   "metadata": {},
   "source": [
    "UPDATING A SPECIFIC POSTION"
   ]
  },
  {
   "cell_type": "code",
   "execution_count": null,
   "id": "6da28320",
   "metadata": {},
   "outputs": [],
   "source": [
    "df.loc[0,'Salary']=55000\n",
    "print(df)"
   ]
  },
  {
   "cell_type": "markdown",
   "id": "cccf9120",
   "metadata": {},
   "source": [
    "UPDATING AN ENTIRE COLUMN"
   ]
  },
  {
   "cell_type": "code",
   "execution_count": null,
   "id": "7e68eba5",
   "metadata": {},
   "outputs": [],
   "source": [
    "#increasing salary by 5 %\n",
    "df['Salary']=df['Salary'] * 1.05\n",
    "print(df)"
   ]
  },
  {
   "cell_type": "markdown",
   "id": "ecbd5097",
   "metadata": {},
   "source": [
    "REMOVING COLUMNS"
   ]
  },
  {
   "cell_type": "code",
   "execution_count": null,
   "id": "2352c5ce",
   "metadata": {},
   "outputs": [],
   "source": [
    "df.drop(columns=[\"Performance Score\"],inplace=True)\n",
    "print(df)"
   ]
  }
 ],
 "metadata": {
  "kernelspec": {
   "display_name": "myenv",
   "language": "python",
   "name": "python3"
  },
  "language_info": {
   "codemirror_mode": {
    "name": "ipython",
    "version": 3
   },
   "file_extension": ".py",
   "mimetype": "text/x-python",
   "name": "python",
   "nbconvert_exporter": "python",
   "pygments_lexer": "ipython3",
   "version": "3.12.6"
  }
 },
 "nbformat": 4,
 "nbformat_minor": 5
}
