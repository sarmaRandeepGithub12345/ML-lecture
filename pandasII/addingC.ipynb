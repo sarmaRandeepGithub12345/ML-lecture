{
 "cells": [
  {
   "cell_type": "code",
   "execution_count": 4,
   "id": "4bcd240f",
   "metadata": {},
   "outputs": [],
   "source": [
    "import pandas as pd"
   ]
  },
  {
   "cell_type": "code",
   "execution_count": 9,
   "id": "ebb8f05a",
   "metadata": {},
   "outputs": [],
   "source": [
    "data = {\n",
    "    \"Name\":['Ram','Shyam','Ravi','Dhanshyam','Shubam','Jagdish','Pravin','Nvain'],\n",
    "    \"Age\":[10,20,30,40,50,60,42,21],\n",
    "    \"Salary\":[50000,45000,60000,65070,30000,99000,56000,10000],\n",
    "    \"Performance Score\":[90,91,80,60,88,96,78,83],\n",
    "}\n",
    "df = pd.DataFrame(data)"
   ]
  },
  {
   "cell_type": "markdown",
   "id": "37ccaffc",
   "metadata": {},
   "source": [
    "ADDING NEW COLUMN"
   ]
  },
  {
   "cell_type": "code",
   "execution_count": null,
   "id": "d8880b17",
   "metadata": {},
   "outputs": [],
   "source": [
    "df[\"bonus\"] = df[\"Salary\"] * 0.1\n",
    "print(df)"
   ]
  },
  {
   "cell_type": "markdown",
   "id": "b702fade",
   "metadata": {},
   "source": [
    "ADDING COLUMN USIN INSERT"
   ]
  },
  {
   "cell_type": "code",
   "execution_count": null,
   "id": "daec8b2b",
   "metadata": {},
   "outputs": [],
   "source": [
    "df.insert(loc=0,column=\"ID\",value=[1,2,3,4,5,6,7,8])\n",
    "print(df)"
   ]
  }
 ],
 "metadata": {
  "kernelspec": {
   "display_name": "myenv",
   "language": "python",
   "name": "python3"
  },
  "language_info": {
   "codemirror_mode": {
    "name": "ipython",
    "version": 3
   },
   "file_extension": ".py",
   "mimetype": "text/x-python",
   "name": "python",
   "nbconvert_exporter": "python",
   "pygments_lexer": "ipython3",
   "version": "3.12.6"
  }
 },
 "nbformat": 4,
 "nbformat_minor": 5
}
