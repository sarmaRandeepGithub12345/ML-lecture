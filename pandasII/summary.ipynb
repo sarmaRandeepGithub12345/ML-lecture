{
 "cells": [
  {
   "cell_type": "code",
   "execution_count": 8,
   "id": "0cff8f68",
   "metadata": {},
   "outputs": [],
   "source": [
    "import pandas as pd\n",
    "data = {\n",
    "    \"Name\":['Ram','Shyam','Ravi','Dhanshyam','Shubam','Jagdish','Pravin','Nvain'],\n",
    "    \"Age\":[42,21,30,40,10,10,55,55],\n",
    "    \"Salary\":[50000,99000,56000,45000,60000,65070,30000,10000],\n",
    "}\n",
    "df = pd.DataFrame(data)"
   ]
  },
  {
   "cell_type": "markdown",
   "id": "831fec17",
   "metadata": {},
   "source": [
    "MEAN"
   ]
  },
  {
   "cell_type": "code",
   "execution_count": null,
   "id": "edbece7b",
   "metadata": {},
   "outputs": [],
   "source": [
    "avg_salary = df['Salary'].mean()\n",
    "print(avg_salary)"
   ]
  },
  {
   "cell_type": "markdown",
   "id": "58474fa9",
   "metadata": {},
   "source": [
    "GROUP BY"
   ]
  },
  {
   "cell_type": "code",
   "execution_count": null,
   "id": "c731ded2",
   "metadata": {},
   "outputs": [],
   "source": [
    "#add salary by age\n",
    "grouped = df.groupby(\"Age\")[\"Salary\"].sum()\n",
    "print(grouped)"
   ]
  }
 ],
 "metadata": {
  "kernelspec": {
   "display_name": "myenv",
   "language": "python",
   "name": "python3"
  },
  "language_info": {
   "codemirror_mode": {
    "name": "ipython",
    "version": 3
   },
   "file_extension": ".py",
   "mimetype": "text/x-python",
   "name": "python",
   "nbconvert_exporter": "python",
   "pygments_lexer": "ipython3",
   "version": "3.12.6"
  }
 },
 "nbformat": 4,
 "nbformat_minor": 5
}
