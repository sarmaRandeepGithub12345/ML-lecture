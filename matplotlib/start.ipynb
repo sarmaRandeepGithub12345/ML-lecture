{
 "cells": [
  {
   "cell_type": "code",
   "execution_count": 1,
   "id": "68db8dfb",
   "metadata": {},
   "outputs": [],
   "source": [
    "import matplotlib.pyplot as plt\n",
    "x=[ 1, 2, 3, 4]\n",
    "y=[10,20,15,25]"
   ]
  },
  {
   "cell_type": "code",
   "execution_count": null,
   "id": "f11504e6",
   "metadata": {},
   "outputs": [],
   "source": [
    "plt.plot(x, y)\n",
    "plt.show()"
   ]
  },
  {
   "cell_type": "code",
   "execution_count": null,
   "id": "9856e258",
   "metadata": {},
   "outputs": [],
   "source": [
    "x = ['Mon','Tues','Wed','Thru','Fri']\n",
    "y = [10,15,7,20,12]\n",
    "plt.plot(x,y)#used to draw a line graph\n",
    "plt.title(\"Bakery Sales This Week\")\n",
    "plt.xlabel('Day of the week')\n",
    "plt.ylabel('Sales per day')\n",
    "plt.show()"
   ]
  },
  {
   "cell_type": "code",
   "execution_count": null,
   "id": "051ed8b0",
   "metadata": {},
   "outputs": [],
   "source": [
    "months = [1,2,3,4]\n",
    "sales = [1000,1500,1200,1800]\n",
    "plt.plot(months, sales,color='blue',linestyle='--',linewidth=2,marker='o',label='2025 Sales Data')\n",
    "plt.xlabel('Months')\n",
    "plt.ylabel('Sales')\n",
    "plt.title('Monthly sales data')\n",
    "plt.legend(loc='lower right')\n",
    "plt.grid(color='grey',linestyle=':',linewidth=1)\n",
    "plt.xlim(1,4)\n",
    "plt.ylim(1,2000)\n",
    "plt.xticks([1,2,3,4],['M1','M2','M3','M4'])\n",
    "plt.show()"
   ]
  },
  {
   "cell_type": "markdown",
   "id": "6faf3072",
   "metadata": {},
   "source": [
    "BAR CHART"
   ]
  },
  {
   "cell_type": "code",
   "execution_count": null,
   "id": "fb6e755e",
   "metadata": {},
   "outputs": [],
   "source": [
    "#plt.bar(x,height,color='Color Name',width=value,label='label name')\n",
    "product = ['A','B','C','D']\n",
    "sales = [1000,1500,800,1200]\n",
    "plt.barh(product,sales,color = 'orange',label='Sales 2025')\n",
    "# plt.bar(product,sales,color = 'orange',label='Sales 2025')\n",
    "plt.xlabel('Product')\n",
    "plt.ylabel('Sales')\n",
    "plt.title('Product Sale Comparison')\n",
    "plt.legend()\n",
    "plt.show()"
   ]
  },
  {
   "cell_type": "code",
   "execution_count": null,
   "id": "8ea2f35a",
   "metadata": {},
   "outputs": [],
   "source": [
    "#plt.pie(values,labels='label_list',colors=color_list,autopct='%1.1f%%')\n",
    "# %f → float\n",
    "# 1.1 → one digit before, one after the decimal\n",
    "# %% → escape to show a literal %\n",
    "regions = ['North','South','East','West']\n",
    "revenue = [3000,2000,1500,1000]\n",
    "plt.pie(revenue,labels=regions,autopct='%1.1f%%',colors=['gold','skyblue','lightgreen','coral'])\n",
    "plt.title('Revenue contribution by region')\n",
    "plt.show()"
   ]
  },
  {
   "cell_type": "markdown",
   "id": "4117c4ce",
   "metadata": {},
   "source": [
    "HISTOGRAM"
   ]
  },
  {
   "cell_type": "code",
   "execution_count": 2,
   "id": "ecc5a42b",
   "metadata": {},
   "outputs": [
    {
     "data": {
      "image/png": "[encoded data removed]",
      "text/plain": [
       "<Figure size 640x480 with 1 Axes>"
      ]
     },
     "metadata": {},
     "output_type": "display_data"
    }
   ],
   "source": [
    "#plt.hist(data,bins=number_of_bins,color='colorname', edgecolor='black')\n",
    "scores = [45,67,89,56,78,88,92,68,74,81,59,66,75,82,90,85,70,73,68,77]\n",
    "plt.hist(scores,bins=5,color='purple',edgecolor = 'black')\n",
    "plt.xlabel('Score Range')\n",
    "plt.ylabel('Number of students')\n",
    "plt.title('Score distribution of students')\n",
    "plt.show()\n",
    "# 55-65 -> 1 student"
   ]
  },
  {
   "cell_type": "markdown",
   "id": "a60a7963",
   "metadata": {},
   "source": [
    "Scatter plots"
   ]
  },
  {
   "cell_type": "code",
   "execution_count": null,
   "id": "9c223c18",
   "metadata": {},
   "outputs": [],
   "source": [
    "#plt.scatter(x,y,color='color Name',marker='marker style',label='label name')\n",
    "# used to find coorelation different variables\n",
    "hours_study = [1,2,3,4,5,6,7,8]\n",
    "exam_scores = [50,55,60,65,70,75,80,85]\n",
    "\n",
    "plt.scatter(hours_study,exam_scores,color='green',marker='d',label ='Student Data')\n",
    "plt.xlabel('Hours studied')\n",
    "plt.ylabel('Exam score')\n",
    "plt.title('Relationship between study time and exam score')\n",
    "plt.legend()\n",
    "plt.grid(True)\n",
    "plt.show()"
   ]
  },
  {
   "cell_type": "code",
   "execution_count": null,
   "id": "81eaae84",
   "metadata": {},
   "outputs": [],
   "source": [
    "\n",
    "plt.scatter([1,2,3],[50,55,60],color='blue',label ='Class A')\n",
    "plt.scatter([1,2,3],[45,50,52],color='orange',label ='Class B')\n",
    "plt.xlabel('Hours studied')\n",
    "plt.ylabel('Exam score')\n",
    "plt.title('Relationship between study time and exam score')\n",
    "plt.legend()\n",
    "plt.grid(True)\n",
    "plt.show()"
   ]
  },
  {
   "cell_type": "markdown",
   "id": "ad19d9e3",
   "metadata": {},
   "source": [
    "SUB PLOTS"
   ]
  },
  {
   "cell_type": "code",
   "execution_count": null,
   "id": "b871d7ff",
   "metadata": {},
   "outputs": [],
   "source": [
    "#plt.subplot(nrows,ncols,index)\n",
    "#indexing is from 1\n",
    "x=[1,2,3,4]\n",
    "y=[10,20,15,25]\n",
    "plt.subplot(1,2,1)#1st row,2nd column, 1st subplot\n",
    "plt.plot(x,y)\n",
    "plt.title('Line Chart')\n",
    "plt.subplot(1,2,2)#1st row,2nd column, 2nd subplot\n",
    "plt.bar(x,y)\n",
    "plt.title('Bar Chart')\n",
    "# plt.tight_layout()\n",
    "plt.show()"
   ]
  },
  {
   "cell_type": "markdown",
   "id": "2dbefcf5",
   "metadata": {},
   "source": [
    "Object Oriented"
   ]
  },
  {
   "cell_type": "code",
   "execution_count": null,
   "id": "3b49c40a",
   "metadata": {},
   "outputs": [],
   "source": [
    "x=[1,2,3,4]\n",
    "y=[10,20,15,25]\n",
    "# fig,ax = plt.subplots(nrows,ncol, figsize(width, height))\n",
    "fig, ax = plt.subplots(1,2,figsize=(10,5))\n",
    "ax[0].plot(x,y,color='blue')\n",
    "ax[0].set_title('Line Plot')\n",
    "\n",
    "ax[1].bar(x,y,color='green')\n",
    "ax[1].set_title('Bar Chart')\n",
    "fig.suptitle('Comparison of Line and Bar charts')\n",
    "plt.tight_layout()\n",
    "plt.show()"
   ]
  },
  {
   "cell_type": "markdown",
   "id": "0fa0bc34",
   "metadata": {},
   "source": [
    "Save Fig(used to show save graphs)"
   ]
  },
  {
   "cell_type": "code",
   "execution_count": null,
   "id": "46ab2440",
   "metadata": {},
   "outputs": [],
   "source": [
    "# #savefig('filename.extension', dpi=value ,bbox_inches = 'tighti' )\n",
    "x=[1,2,3,4]\n",
    "y=[10,20,15,25]\n",
    "plt.plot(x, y,color='blue',marker='o',label='2025 Sales Data')\n",
    "plt.xlabel('X Axis')\n",
    "plt.ylabel('Y Axis')\n",
    "plt.title('Simple Line Plot')\n",
    "plt.tight_layout()\n",
    "\n",
    "plt.savefig('line_plot.png',dpi=300,bbox_inches = 'tight')\n",
    "plt.show()"
   ]
  }
 ],
 "metadata": {
  "kernelspec": {
   "display_name": "myenv",
   "language": "python",
   "name": "python3"
  },
  "language_info": {
   "codemirror_mode": {
    "name": "ipython",
    "version": 3
   },
   "file_extension": ".py",
   "mimetype": "text/x-python",
   "name": "python",
   "nbconvert_exporter": "python",
   "pygments_lexer": "ipython3",
   "version": "3.12.6"
  }
 },
 "nbformat": 4,
 "nbformat_minor": 5
}
