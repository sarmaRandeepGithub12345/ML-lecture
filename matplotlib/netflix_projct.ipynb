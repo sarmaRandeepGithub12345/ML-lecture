{
 "cells": [
  {
   "cell_type": "code",
   "execution_count": 1,
   "id": "6f9b60a9",
   "metadata": {},
   "outputs": [
    {
     "data": {
      "image/png": "[encoded data removed]",
      "text/plain": [
       "<Figure size 600x400 with 1 Axes>"
      ]
     },
     "metadata": {},
     "output_type": "display_data"
    }
   ],
   "source": [
    "import matplotlib.pyplot as plt\n",
    "import pandas as pd\n",
    "\n",
    "df = pd.read_csv('netflix_titles.csv')\n",
    "\n",
    "#cleaning data\n",
    "df = df.dropna(subset=['type','release_year','rating','country','duration'])\n",
    "\n",
    "type_counts = df['type'].value_counts()\n",
    "plt.figure(figsize=(6,4))\n",
    "plt.bar(type_counts.index,type_counts.values, color=['skyblue','orange'])\n",
    "plt.title('Number of movies VS Tv Shows in Netflix')\n",
    "plt.xlabel('Type')\n",
    "plt.ylabel('Count')\n",
    "plt.tight_layout()\n",
    "plt.show()"
   ]
  },
  {
   "cell_type": "markdown",
   "id": "37334b97",
   "metadata": {},
   "source": [
    "RATING"
   ]
  },
  {
   "cell_type": "code",
   "execution_count": null,
   "id": "53fa9f02",
   "metadata": {},
   "outputs": [],
   "source": [
    "# print(df['type'].unique())\n",
    "type_counts = df['rating'].value_counts()\n",
    "plt.figure(figsize=(8,6))\n",
    "plt.pie(type_counts,labels=type_counts.index,autopct='%1.1f%%',startangle=90,\n",
    "        # colors=['gold','skyblue','lightgreen','coral']\n",
    "        )\n",
    "plt.title('Percentage of content rating')\n",
    "plt.tight_layout()\n",
    "plt.show()"
   ]
  },
  {
   "cell_type": "code",
   "execution_count": null,
   "id": "eea09bf9",
   "metadata": {},
   "outputs": [],
   "source": [
    "movies_df = df[df['type']=='Movie'].copy()\n",
    "# movies_df['duration'] = gets movies['duration]\n",
    "# replace(' min',''):replaces ' min' with ''\n",
    "# converts '120' to 120\n",
    "movies_df['duration_int'] = movies_df['duration'].str.replace(' min','').astype(int)\n",
    "plt.figure(figsize=(8,6))\n",
    "plt.hist(movies_df['duration_int'],bins=30,color='purple',edgecolor = 'black')\n",
    "plt.xlabel('Number of movies')\n",
    "plt.ylabel('Duration minutes')\n",
    "plt.title('Distribution of movie duration')\n",
    "plt.tight_layout()\n",
    "plt.show()"
   ]
  },
  {
   "cell_type": "code",
   "execution_count": null,
   "id": "1a0d6d8a",
   "metadata": {},
   "outputs": [],
   "source": [
    "release_count = df['release_year'].value_counts().sort_index()\n",
    "plt.figure(figsize=(10,6))\n",
    "plt.scatter(release_count.index,release_count.values, color='red')\n",
    "plt.xlabel('Release Year')\n",
    "plt.ylabel('Number of Shows')\n",
    "plt.title('Release Year Vs Number of Shows')\n",
    "plt.tight_layout()\n",
    "plt.show()"
   ]
  },
  {
   "cell_type": "code",
   "execution_count": null,
   "id": "2c054f70",
   "metadata": {},
   "outputs": [],
   "source": [
    "country_counts = df['country'].value_counts().head(10)\n",
    "plt.barh(country_counts.index,country_counts.values,color = 'teal')\n",
    "# plt.bar(product,sales,color = 'orange',label='Sales 2025')\n",
    "plt.xlabel('Number of shows')\n",
    "plt.ylabel('Country')\n",
    "plt.title('Top 10 countries by number of shows')\n",
    "plt.tight_layout()\n",
    "plt.show()\n"
   ]
  },
  {
   "cell_type": "code",
   "execution_count": null,
   "id": "c6c2cde7",
   "metadata": {},
   "outputs": [],
   "source": [
    "content_by_year = df.groupby(['release_year','type']).size().unstack().fillna(0)\n",
    "fig ,ax = plt.subplots(1,2,figsize=(12,5))\n",
    "#first subplot: movies\n",
    "ax[0].plot(content_by_year.index,content_by_year['Movie'],color = 'blue')\n",
    "ax[0].set_title('Movies released by year')\n",
    "ax[0].set_xlabel('Year')\n",
    "ax[0].set_ylabel('Number of Movies')\n",
    "#second subplot:TV Shows\n",
    "ax[1].plot(content_by_year.index,content_by_year['TV Show'],color = 'green')\n",
    "ax[1].set_title('TV shows released by year')\n",
    "ax[1].set_xlabel('Year')\n",
    "ax[1].set_ylabel('Number of Movies')\n",
    "fig.suptitle('Comparison of Movies and Tv shows released over years')\n",
    "plt.tight_layout()\n",
    "plt.show()"
   ]
  }
 ],
 "metadata": {
  "kernelspec": {
   "display_name": "myenv",
   "language": "python",
   "name": "python3"
  },
  "language_info": {
   "codemirror_mode": {
    "name": "ipython",
    "version": 3
   },
   "file_extension": ".py",
   "mimetype": "text/x-python",
   "name": "python",
   "nbconvert_exporter": "python",
   "pygments_lexer": "ipython3",
   "version": "3.12.6"
  }
 },
 "nbformat": 4,
 "nbformat_minor": 5
}
