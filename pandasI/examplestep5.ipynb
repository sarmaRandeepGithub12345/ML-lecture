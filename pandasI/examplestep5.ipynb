{
 "cells": [
  {
   "cell_type": "code",
   "execution_count": 2,
   "id": "76cbdac1",
   "metadata": {},
   "outputs": [],
   "source": [
    "import pandas as pd"
   ]
  },
  {
   "cell_type": "code",
   "execution_count": 3,
   "id": "6f381ad8",
   "metadata": {},
   "outputs": [],
   "source": [
    "data = {\n",
    "    \"Name\":['Ram','Shyam','Ravi','Dhanshyam','Shubam','Jagdish','Pravin','Nvain'],\n",
    "    \"Age\":[10,20,30,40,50,60,42,21],\n",
    "    \"Salary\":[50000,45000,60000,65070,30000,99000,56000,10000],\n",
    "    \"Performance Score\":[90,91,80,60,88,96,78,83],\n",
    "}\n",
    "df = pd.DataFrame(data)"
   ]
  },
  {
   "cell_type": "markdown",
   "id": "ebc80f7f",
   "metadata": {},
   "source": [
    "SELECT A SINGLE COLUMN"
   ]
  },
  {
   "cell_type": "code",
   "execution_count": null,
   "id": "4d562c58",
   "metadata": {},
   "outputs": [],
   "source": [
    "print(df[\"Name\"])"
   ]
  },
  {
   "cell_type": "markdown",
   "id": "58fc8a31",
   "metadata": {},
   "source": [
    "SELECTING MULTIPLE COLUMNS"
   ]
  },
  {
   "cell_type": "code",
   "execution_count": null,
   "id": "11060e5a",
   "metadata": {},
   "outputs": [],
   "source": [
    "subset = df[[\"Name\",\"Age\"]]\n",
    "print(subset)"
   ]
  }
 ],
 "metadata": {
  "kernelspec": {
   "display_name": "myenv",
   "language": "python",
   "name": "python3"
  },
  "language_info": {
   "codemirror_mode": {
    "name": "ipython",
    "version": 3
   },
   "file_extension": ".py",
   "mimetype": "text/x-python",
   "name": "python",
   "nbconvert_exporter": "python",
   "pygments_lexer": "ipython3",
   "version": "3.12.6"
  }
 },
 "nbformat": 4,
 "nbformat_minor": 5
}
