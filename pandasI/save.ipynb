{
 "cells": [
  {
   "cell_type": "code",
   "execution_count": 1,
   "id": "c69159eb",
   "metadata": {},
   "outputs": [],
   "source": [
    "import pandas as pd"
   ]
  },
  {
   "cell_type": "code",
   "execution_count": null,
   "id": "31de3cb2",
   "metadata": {},
   "outputs": [],
   "source": [
    "data = {\n",
    "    \"Name\":['Ram','Shyam','Ravi'],\n",
    "    \"Age\":[10,20,30],\n",
    "    \"City\":['Nagpur','Mumbai','Delhi'], \n",
    "}\n",
    "df = pd.DataFrame(data)\n",
    "print(df)"
   ]
  },
  {
   "cell_type": "markdown",
   "id": "cfd6265c",
   "metadata": {},
   "source": [
    "SAVE DATA TO CSV"
   ]
  },
  {
   "cell_type": "code",
   "execution_count": null,
   "id": "cef0b1e2",
   "metadata": {},
   "outputs": [],
   "source": [
    "df.to_csv(\"output.csv\",index=False)"
   ]
  },
  {
   "cell_type": "markdown",
   "id": "1a6fc6f1",
   "metadata": {},
   "source": [
    "SAVE DATA TO EXCEL FILE"
   ]
  },
  {
   "cell_type": "code",
   "execution_count": 4,
   "id": "7407405a",
   "metadata": {},
   "outputs": [],
   "source": [
    "df.to_excel(\"sample_excel.xlsx\")"
   ]
  },
  {
   "cell_type": "markdown",
   "id": "7f2e6061",
   "metadata": {},
   "source": [
    "SAVE DATA TO JSON"
   ]
  },
  {
   "cell_type": "code",
   "execution_count": null,
   "id": "f0fe3028",
   "metadata": {},
   "outputs": [],
   "source": [
    "df.to_json(\"sample.json\")"
   ]
  }
 ],
 "metadata": {
  "kernelspec": {
   "display_name": "myenv",
   "language": "python",
   "name": "python3"
  },
  "language_info": {
   "codemirror_mode": {
    "name": "ipython",
    "version": 3
   },
   "file_extension": ".py",
   "mimetype": "text/x-python",
   "name": "python",
   "nbconvert_exporter": "python",
   "pygments_lexer": "ipython3",
   "version": "3.12.6"
  }
 },
 "nbformat": 4,
 "nbformat_minor": 5
}
