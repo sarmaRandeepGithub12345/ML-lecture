{
 "cells": [
  {
   "cell_type": "code",
   "execution_count": null,
   "id": "e8f9b8a8",
   "metadata": {},
   "outputs": [],
   "source": [
    "import pandas as pd"
   ]
  },
  {
   "cell_type": "code",
   "execution_count": 2,
   "id": "60b71890",
   "metadata": {},
   "outputs": [],
   "source": [
    "data = {\n",
    "    \"Name\":['Ram','Shyam','Ravi','Dhanshyam','Shubam','Jagdish','Pravin','Nvain'],\n",
    "    \"Age\":[10,20,30,40,50,60,42,21],\n",
    "    \"Salary\":[50000,45000,60000,65070,30000,99000,56000,10000],\n",
    "    \"Performance Score\":[90,91,80,60,88,96,78,83],\n",
    "}\n",
    "df = pd.DataFrame(data)"
   ]
  },
  {
   "cell_type": "markdown",
   "id": "a9de507c",
   "metadata": {},
   "source": [
    "FILTER ROWS BASED ON SINGLE CONDITION"
   ]
  },
  {
   "cell_type": "code",
   "execution_count": null,
   "id": "7d8c8d20",
   "metadata": {},
   "outputs": [],
   "source": [
    "high_salary = df[df['Salary']>50000]\n",
    "print(high_salary)"
   ]
  },
  {
   "cell_type": "markdown",
   "id": "1c869409",
   "metadata": {},
   "source": [
    "FILTER ROWS BASED ON MULTIPLE CONDITION(AND)"
   ]
  },
  {
   "cell_type": "code",
   "execution_count": null,
   "id": "af414288",
   "metadata": {},
   "outputs": [],
   "source": [
    "high_salary = df[(df['Salary']>50000) & (df['Age']>50)]\n",
    "print(high_salary)"
   ]
  },
  {
   "cell_type": "markdown",
   "id": "3af7530d",
   "metadata": {},
   "source": [
    "FILTER ROWS BASED WITH OR CONDITION"
   ]
  },
  {
   "cell_type": "code",
   "execution_count": null,
   "id": "ccd33e8e",
   "metadata": {},
   "outputs": [],
   "source": [
    "high_salary = df[(df['Salary']>50000) | (df['Age']>50)]\n",
    "print(high_salary)"
   ]
  }
 ],
 "metadata": {
  "kernelspec": {
   "display_name": "myenv",
   "language": "python",
   "name": "python3"
  },
  "language_info": {
   "codemirror_mode": {
    "name": "ipython",
    "version": 3
   },
   "file_extension": ".py",
   "mimetype": "text/x-python",
   "name": "python",
   "nbconvert_exporter": "python",
   "pygments_lexer": "ipython3",
   "version": "3.12.6"
  }
 },
 "nbformat": 4,
 "nbformat_minor": 5
}
