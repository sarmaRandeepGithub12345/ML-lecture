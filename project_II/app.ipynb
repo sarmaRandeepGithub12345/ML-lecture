{
 "cells": [
  {
   "cell_type": "code",
   "execution_count": 2,
   "id": "a9ec544d",
   "metadata": {},
   "outputs": [],
   "source": [
    "import numpy as np\n",
    "import pandas as pd\n",
    "import matplotlib.pyplot as plt\n",
    "import seaborn as sns"
   ]
  },
  {
   "cell_type": "code",
   "execution_count": null,
   "id": "5015eaef",
   "metadata": {},
   "outputs": [],
   "source": [
    "df = pd.read_csv('deliveries.csv')\n",
    "# print(df.shape)\n",
    "# print(\"Column names:\\n\",df.columns)\n",
    "print(df.head(60))\n",
    "# print(df['Item Fat Content'].unique())"
   ]
  },
  {
   "cell_type": "markdown",
   "id": "a7c11c43",
   "metadata": {},
   "source": [
    "Arranging Top 10 bowlers by wickets"
   ]
  },
  {
   "cell_type": "code",
   "execution_count": null,
   "id": "d470dde8",
   "metadata": {},
   "outputs": [],
   "source": [
    "# print(df[df['wicket_type'].notna()])\n",
    "wicket_df = df[df['wicket_type'].notna()]\n",
    "#here size gives how many rows each bowler have\n",
    "bowlers = wicket_df.groupby('bowler').size().sort_values(ascending=False).head(10)\n",
    "\n",
    "# print(bowlers)\n",
    "plt.figure(figsize=(10,6))\n",
    "bars = plt.bar(bowlers.index,bowlers.values,color='tab:green')\n",
    "plt.xticks(rotation = 90)\n",
    "for bar in bars:\n",
    "    plt.text(\n",
    "        bar.get_x()  #gets the starting x-position of the bar\n",
    "          + bar.get_width()/2, #centers the label horizontally\n",
    "        bar.get_height(), # Y-position: places the label right at the top\n",
    "        f'{bar.get_height():,.0f}', # Label text: value of the bar (no decimals, comma-separated)\n",
    "        ha='center',# Horizontal alignment: center\n",
    "        va='bottom',# Vertical alignment: text is just above the bar\n",
    "        fontsize=8 # Font size of the label\n",
    "        )\n",
    "plt.ylabel('Wickets')\n",
    "plt.xlabel('Players')\n",
    "plt.title('Top 10 wicket takers')\n",
    "plt.tight_layout()\n",
    "plt.show()"
   ]
  },
  {
   "cell_type": "markdown",
   "id": "54a942a6",
   "metadata": {},
   "source": [
    "Highest Runs scored"
   ]
  },
  {
   "cell_type": "code",
   "execution_count": null,
   "id": "0cdc0a6f",
   "metadata": {},
   "outputs": [],
   "source": [
    "# print(\"Column names:\\n\",df.columns)\n",
    "top_scorers = df.groupby('striker')['runs_of_bat'].sum().sort_values(ascending=False).head(10)\n",
    "plt.figure(figsize=(10,6))\n",
    "bars = plt.bar(top_scorers.index,top_scorers.values,color='tab:brown')\n",
    "plt.xticks(rotation = -90)\n",
    "for bar in bars:\n",
    "    plt.text(\n",
    "        bar.get_x()  #gets the starting x-position of the bar\n",
    "          + bar.get_width()/2, #centers the label horizontally\n",
    "        bar.get_height(), # Y-position: places the label right at the top\n",
    "        f'{bar.get_height():,.0f}', # Label text: value of the bar (no decimals, comma-separated)\n",
    "        ha='center',# Horizontal alignment: center\n",
    "        va='bottom',# Vertical alignment: text is just above the bar\n",
    "        fontsize=8 # Font size of the label\n",
    "        )\n",
    "plt.ylabel('Wickets')\n",
    "plt.xlabel('Players')\n",
    "plt.title('Top 10 run scorers')\n",
    "plt.tight_layout()\n",
    "plt.show()"
   ]
  },
  {
   "cell_type": "markdown",
   "id": "006a8222",
   "metadata": {},
   "source": [
    "Total matches played"
   ]
  },
  {
   "cell_type": "code",
   "execution_count": null,
   "id": "866b6515",
   "metadata": {},
   "outputs": [],
   "source": [
    "total_matches_played = df['match_no'].unique()[-1]\n",
    "print(total_matches_played)"
   ]
  }
 ],
 "metadata": {
  "kernelspec": {
   "display_name": "Python 3",
   "language": "python",
   "name": "python3"
  },
  "language_info": {
   "codemirror_mode": {
    "name": "ipython",
    "version": 3
   },
   "file_extension": ".py",
   "mimetype": "text/x-python",
   "name": "python",
   "nbconvert_exporter": "python",
   "pygments_lexer": "ipython3",
   "version": "3.12.6"
  }
 },
 "nbformat": 4,
 "nbformat_minor": 5
}
