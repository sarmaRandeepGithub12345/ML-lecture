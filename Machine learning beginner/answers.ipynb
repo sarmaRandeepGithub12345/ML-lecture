{
 "cells": [
  {
   "cell_type": "code",
   "execution_count": 1,
   "id": "da07595d",
   "metadata": {},
   "outputs": [],
   "source": [
    "import numpy as np"
   ]
  },
  {
   "cell_type": "markdown",
   "id": "22589f72",
   "metadata": {},
   "source": [
    "### Answer 1"
   ]
  },
  {
   "cell_type": "code",
   "execution_count": 8,
   "id": "70cce5d8",
   "metadata": {},
   "outputs": [
    {
     "name": "stdout",
     "output_type": "stream",
     "text": [
      "[45 50 70 70 76 88 90 99]\n"
     ]
    }
   ],
   "source": [
    "unsorted_array = np.array([50,70,70,90,45,76,99,88])\n",
    "sorted_array = np.sort(unsorted_array)\n",
    "print(sorted_array)"
   ]
  },
  {
   "cell_type": "code",
   "execution_count": 9,
   "id": "4886bf23",
   "metadata": {},
   "outputs": [
    {
     "name": "stdout",
     "output_type": "stream",
     "text": [
      "Mean: 73.5\n",
      "Median: 73.0\n",
      "Mode: 70\n"
     ]
    }
   ],
   "source": [
    "mean = sorted_array.sum()/sorted_array.size\n",
    "median = (70 + 76)/2\n",
    "mode = 70\n",
    "print(f'Mean: {mean}\\nMedian: {median}\\nMode: {mode}')"
   ]
  }
 ],
 "metadata": {
  "kernelspec": {
   "display_name": "myenv",
   "language": "python",
   "name": "python3"
  },
  "language_info": {
   "codemirror_mode": {
    "name": "ipython",
    "version": 3
   },
   "file_extension": ".py",
   "mimetype": "text/x-python",
   "name": "python",
   "nbconvert_exporter": "python",
   "pygments_lexer": "ipython3",
   "version": "3.12.6"
  }
 },
 "nbformat": 4,
 "nbformat_minor": 5
}
