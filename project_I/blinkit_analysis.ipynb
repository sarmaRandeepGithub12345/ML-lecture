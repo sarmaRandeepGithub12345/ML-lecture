{
 "cells": [
  {
   "cell_type": "markdown",
   "id": "bd8709c4",
   "metadata": {},
   "source": [
    "### **DATA ANALYSIS PYTHON PROJECT- BLINKIT ANALYSIS**"
   ]
  },
  {
   "cell_type": "code",
   "execution_count": 21,
   "id": "5118d8c8",
   "metadata": {},
   "outputs": [],
   "source": [
    "import numpy as np\n",
    "import pandas as pd\n",
    "import matplotlib.pyplot as plt\n",
    "import seaborn as sns"
   ]
  },
  {
   "cell_type": "markdown",
   "id": "c8d0f851",
   "metadata": {},
   "source": [
    "Import raw data"
   ]
  },
  {
   "cell_type": "code",
   "execution_count": 44,
   "id": "aa667cc6",
   "metadata": {},
   "outputs": [
    {
     "name": "stdout",
     "output_type": "stream",
     "text": [
      "   Item Fat Content Item Identifier              Item Type  \\\n",
      "0           Regular           FDX32  Fruits and Vegetables   \n",
      "1           Low Fat           NCB42     Health and Hygiene   \n",
      "2           Regular           FDR28           Frozen Foods   \n",
      "3           Regular           FDL50                 Canned   \n",
      "4           Low Fat           DRI25            Soft Drinks   \n",
      "5           low fat           FDS52           Frozen Foods   \n",
      "6           Low Fat           NCU05     Health and Hygiene   \n",
      "7           Low Fat           NCD30              Household   \n",
      "8           Low Fat           FDW20  Fruits and Vegetables   \n",
      "9           Low Fat           FDX25                 Canned   \n",
      "10               LF           FDX21            Snack Foods   \n",
      "11          Low Fat           NCU41     Health and Hygiene   \n",
      "12          Low Fat           FDL20  Fruits and Vegetables   \n",
      "13          Low Fat           NCR54              Household   \n",
      "14          Low Fat           FDH19                   Meat   \n",
      "15          Regular           FDB57  Fruits and Vegetables   \n",
      "16          Low Fat           FDO23                 Breads   \n",
      "17          Low Fat           NCB07              Household   \n",
      "18          Low Fat           FDJ56  Fruits and Vegetables   \n",
      "19          Low Fat           DRN47            Hard Drinks   \n",
      "\n",
      "    Outlet Establishment Year Outlet Identifier Outlet Location Type  \\\n",
      "0                        2012            OUT049               Tier 1   \n",
      "1                        2022            OUT018               Tier 3   \n",
      "2                        2010            OUT046               Tier 1   \n",
      "3                        2000            OUT013               Tier 3   \n",
      "4                        2015            OUT045               Tier 2   \n",
      "5                        2020            OUT017               Tier 2   \n",
      "6                        2011            OUT010               Tier 3   \n",
      "7                        2015            OUT045               Tier 2   \n",
      "8                        2000            OUT013               Tier 3   \n",
      "9                        1998            OUT027               Tier 3   \n",
      "10                       1998            OUT027               Tier 3   \n",
      "11                       2017            OUT035               Tier 2   \n",
      "12                       2022            OUT018               Tier 3   \n",
      "13                       2000            OUT013               Tier 3   \n",
      "14                       1998            OUT027               Tier 3   \n",
      "15                       2017            OUT035               Tier 2   \n",
      "16                       2022            OUT018               Tier 3   \n",
      "17                       2012            OUT049               Tier 1   \n",
      "18                       1998            OUT027               Tier 3   \n",
      "19                       2022            OUT018               Tier 3   \n",
      "\n",
      "   Outlet Size        Outlet Type  Item Visibility  Item Weight     Sales  \\\n",
      "0       Medium  Supermarket Type1         0.100014        15.10  145.4786   \n",
      "1       Medium  Supermarket Type2         0.008596        11.80  115.3492   \n",
      "2        Small  Supermarket Type1         0.025896        13.85  165.0210   \n",
      "3         High  Supermarket Type1         0.042278        12.15  126.5046   \n",
      "4        Small  Supermarket Type1         0.033970        19.60   55.1614   \n",
      "5        Small  Supermarket Type1         0.005505         8.89  102.4016   \n",
      "6        Small      Grocery Store         0.098312        11.80   81.4618   \n",
      "7        Small  Supermarket Type1         0.026904        19.70   96.0726   \n",
      "8         High  Supermarket Type1         0.024129        20.75  124.1730   \n",
      "9       Medium  Supermarket Type3         0.101562          NaN  181.9292   \n",
      "10      Medium  Supermarket Type3         0.084555          NaN  109.8912   \n",
      "11       Small  Supermarket Type1         0.052045        18.85  192.1846   \n",
      "12      Medium  Supermarket Type2         0.128938        17.10  112.3886   \n",
      "13        High  Supermarket Type1         0.090487        16.35  195.2110   \n",
      "14      Medium  Supermarket Type3         0.032928          NaN  173.1738   \n",
      "15       Small  Supermarket Type1         0.018802        20.25  222.1772   \n",
      "16      Medium  Supermarket Type2         0.147024        17.85   93.7436   \n",
      "17      Medium  Supermarket Type1         0.077628        19.20  197.6110   \n",
      "18      Medium  Supermarket Type3         0.182515          NaN   98.7700   \n",
      "19      Medium  Supermarket Type2         0.016895        12.10  178.5660   \n",
      "\n",
      "    Rating  \n",
      "0      5.0  \n",
      "1      5.0  \n",
      "2      5.0  \n",
      "3      5.0  \n",
      "4      5.0  \n",
      "5      5.0  \n",
      "6      5.0  \n",
      "7      5.0  \n",
      "8      5.0  \n",
      "9      5.0  \n",
      "10     5.0  \n",
      "11     5.0  \n",
      "12     5.0  \n",
      "13     5.0  \n",
      "14     5.0  \n",
      "15     5.0  \n",
      "16     5.0  \n",
      "17     5.0  \n",
      "18     5.0  \n",
      "19     5.0  \n"
     ]
    }
   ],
   "source": [
    "df = pd.read_csv(\"blinkit_data.csv\")\n",
    "print(df.head(20))"
   ]
  },
  {
   "cell_type": "markdown",
   "id": "d86f2b2f",
   "metadata": {},
   "source": [
    "Size of data"
   ]
  },
  {
   "cell_type": "code",
   "execution_count": null,
   "id": "a008e9ea",
   "metadata": {},
   "outputs": [],
   "source": [
    "print(df.shape)"
   ]
  },
  {
   "cell_type": "markdown",
   "id": "2288fed1",
   "metadata": {},
   "source": [
    "Getting column names"
   ]
  },
  {
   "cell_type": "code",
   "execution_count": null,
   "id": "1a6d0d2c",
   "metadata": {},
   "outputs": [],
   "source": [
    "print(\"Column names:\\n\",df.columns)"
   ]
  },
  {
   "cell_type": "markdown",
   "id": "faaf68a7",
   "metadata": {},
   "source": [
    "Get all datatypes"
   ]
  },
  {
   "cell_type": "code",
   "execution_count": null,
   "id": "279d96fa",
   "metadata": {},
   "outputs": [],
   "source": [
    "print(df.dtypes)\n",
    "print(df.info())"
   ]
  },
  {
   "cell_type": "markdown",
   "id": "c85e0347",
   "metadata": {},
   "source": [
    "Data cleaning: STEP-1 Check for all unqiue values in a particular column"
   ]
  },
  {
   "cell_type": "code",
   "execution_count": null,
   "id": "6b11a598",
   "metadata": {},
   "outputs": [],
   "source": [
    "#STEP-1:Get unqiue values in a particular column\n",
    "print(df['Item Fat Content'].unique())\n"
   ]
  },
  {
   "cell_type": "markdown",
   "id": "9384a9ec",
   "metadata": {},
   "source": [
    "Data cleaning: STEP-2 Replacing faulty values"
   ]
  },
  {
   "cell_type": "code",
   "execution_count": 50,
   "id": "d2913cc1",
   "metadata": {},
   "outputs": [
    {
     "name": "stdout",
     "output_type": "stream",
     "text": [
      "['Regular' 'Low Fat']\n"
     ]
    }
   ],
   "source": [
    "df['Item Fat Content'] = df['Item Fat Content'].replace({'LF':'Low Fat','low fat':'Low Fat','reg':'Regular'})\n",
    "print(df['Item Fat Content'].unique())"
   ]
  },
  {
   "cell_type": "markdown",
   "id": "27236f79",
   "metadata": {},
   "source": [
    "### Business Requirements"
   ]
  },
  {
   "cell_type": "markdown",
   "id": "fb4c2bce",
   "metadata": {},
   "source": [
    "Basic information"
   ]
  },
  {
   "cell_type": "code",
   "execution_count": null,
   "id": "9a3bbbe6",
   "metadata": {},
   "outputs": [],
   "source": [
    "total_sales = df['Sales'].sum()\n",
    "print('Sum of all the sales:',total_sales)\n",
    "\n",
    "avg_sales = df['Sales'].mean()\n",
    "print('Average sales:',avg_sales)\n",
    "\n",
    "number_of_items_sold = df['Sales'].count()\n",
    "print('Total number of item sold',number_of_items_sold)\n",
    "\n",
    "avg_ratings = df['Rating'].mean()\n",
    "print('Average ratings: ',avg_ratings)\n"
   ]
  },
  {
   "cell_type": "markdown",
   "id": "cc1c8ff8",
   "metadata": {},
   "source": [
    "KPI 1:Total Sales by FAT Content"
   ]
  },
  {
   "cell_type": "code",
   "execution_count": null,
   "id": "14ee2ef4",
   "metadata": {},
   "outputs": [],
   "source": [
    "# total_sales_regular = df[df['Item Fat Content']=='Regular']\n",
    "# print(\"Regular:\",total_sales_regular['Sales'].sum())\n",
    "\n",
    "# total_sales_lf = df[df['Item Fat Content']=='Low Fat']\n",
    "# print(\"Low Fat:\",total_sales_lf['Sales'].sum())\n",
    "sales_by_fat = df.groupby('Item Fat Content')['Sales'].sum()\n",
    "plt.pie(sales_by_fat,labels =sales_by_fat.index,autopct='%.1f',startangle=90)\n",
    "plt.title(\"Sales by Fat Content\")\n",
    "#for circle\n",
    "plt.axis('equal')\n",
    "plt.show()"
   ]
  },
  {
   "cell_type": "markdown",
   "id": "5a355ce6",
   "metadata": {},
   "source": [
    "KPI 2:Total Sales by Item Type"
   ]
  },
  {
   "cell_type": "code",
   "execution_count": null,
   "id": "ffbf33ca",
   "metadata": {},
   "outputs": [],
   "source": [
    "sales_by_item_type = df.groupby('Item Type')['Sales'].sum().sort_values(ascending=False)\n",
    "# 10 inches wide and 6 inches tall\n",
    "plt.figure(figsize=(10,6))\n",
    "bars = plt.bar(sales_by_item_type.index,sales_by_item_type.values)\n",
    "\n",
    "plt.xticks(rotation = 90)\n",
    "plt.xlabel('Item Type')\n",
    "plt.ylabel('Total Sales')\n",
    "plt.title('Total Sales by Item Type')\n",
    "\n",
    "for bar in bars:\n",
    "    plt.text(\n",
    "        bar.get_x()  #gets the starting x-position of the bar\n",
    "          + bar.get_width()/2, #centers the label horizontally\n",
    "        bar.get_height(), # Y-position: places the label right at the top\n",
    "        f'{bar.get_height():,.0f}', # Label text: value of the bar (no decimals, comma-separated)\n",
    "        ha='center',# Horizontal alignment: center\n",
    "        va='bottom',# Vertical alignment: text is just above the bar\n",
    "        fontsize=8 # Font size of the label\n",
    "        )\n",
    "\n",
    "plt.tight_layout()\n",
    "#for circle\n",
    "plt.show()"
   ]
  },
  {
   "cell_type": "markdown",
   "id": "300a89d8",
   "metadata": {},
   "source": [
    "KPI 3:FAT content by outlet for total sales."
   ]
  },
  {
   "cell_type": "code",
   "execution_count": null,
   "id": "03c52d95",
   "metadata": {},
   "outputs": [],
   "source": [
    "grouped = df.groupby(['Outlet Location Type','Item Fat Content'])['Sales'].sum().unstack()\n",
    "grouped = grouped[['Regular','Low Fat']]\n",
    "\n",
    "ax = grouped.plot(kind = 'bar',figsize=(8,5),title='Outlet Tier by Item Fat Content')\n",
    "# plt.title('Outlet Tier by Item Fat Content')\n",
    "plt.xlabel('Outlet Location Tier')\n",
    "plt.ylabel('Total Sales')\n",
    "plt.legend(title='Item Fat Content')\n",
    "plt.tight_layout()\n",
    "plt.show()"
   ]
  },
  {
   "cell_type": "markdown",
   "id": "b19663bc",
   "metadata": {},
   "source": [
    "KPI 4:Total Sales by Outlet Establishment"
   ]
  },
  {
   "cell_type": "code",
   "execution_count": null,
   "id": "3d4fedc7",
   "metadata": {},
   "outputs": [],
   "source": [
    "sales_by_year = df.groupby('Outlet Establishment Year')['Sales'].sum().sort_index()\n",
    "\n",
    "plt.figure(figsize=(9,5))\n",
    "plt.plot(sales_by_year.index, sales_by_year.values, marker='o', linestyle='-')\n",
    "\n",
    "plt.xlabel('Outlet Establishment Year')\n",
    "plt.ylabel('Total Sales')\n",
    "plt.title('Outlet Establishment')\n",
    "for x,y in zip(sales_by_year.index, sales_by_year.values):\n",
    "    plt.text(x,y,f'{y:,.0f}',ha='center',va='bottom',fontsize=8)\n",
    "plt.tight_layout()\n",
    "plt.show()"
   ]
  },
  {
   "cell_type": "markdown",
   "id": "2d0e83b2",
   "metadata": {},
   "source": [
    "KPI 5:Sales by Outlet Size"
   ]
  },
  {
   "cell_type": "code",
   "execution_count": null,
   "id": "097e1dc6",
   "metadata": {},
   "outputs": [],
   "source": [
    "sales_by_size = df.groupby('Outlet Size')['Sales'].sum()\n",
    "\n",
    "plt.figure(figsize=(4,4))\n",
    "plt.pie(sales_by_size,labels=sales_by_size.index, autopct='%1.1f%%',startangle=90)\n",
    "plt.title('Outlet Size')\n",
    "plt.tight_layout()\n",
    "plt.show()"
   ]
  },
  {
   "cell_type": "markdown",
   "id": "e5f873b2",
   "metadata": {},
   "source": [
    "KPI 6:Sales by Outlet Location"
   ]
  },
  {
   "cell_type": "code",
   "execution_count": 85,
   "id": "275e97b0",
   "metadata": {},
   "outputs": [
    {
     "data": {
      "image/png": "[encoded data removed]",
      "text/plain": [
       "<Figure size 800x300 with 1 Axes>"
      ]
     },
     "metadata": {},
     "output_type": "display_data"
    }
   ],
   "source": [
    "sales_by_location = df.groupby('Outlet Location Type')['Sales'].sum().reset_index()\n",
    "sales_by_location = sales_by_location.sort_values('Sales',ascending=False)\n",
    "plt.figure(figsize=(8,3))\n",
    "ax = sns.barplot(x='Sales',y='Outlet Location Type',data= sales_by_location)\n",
    "\n",
    "plt.title('Total sales by outlet location type')\n",
    "plt.xlabel('Total sales')\n",
    "plt.ylabel('Outlet location type')\n",
    "\n",
    "plt.tight_layout()\n",
    "plt.show()"
   ]
  }
 ],
 "metadata": {
  "kernelspec": {
   "display_name": "myenv",
   "language": "python",
   "name": "python3"
  },
  "language_info": {
   "codemirror_mode": {
    "name": "ipython",
    "version": 3
   },
   "file_extension": ".py",
   "mimetype": "text/x-python",
   "name": "python",
   "nbconvert_exporter": "python",
   "pygments_lexer": "ipython3",
   "version": "3.12.6"
  }
 },
 "nbformat": 4,
 "nbformat_minor": 5
}
