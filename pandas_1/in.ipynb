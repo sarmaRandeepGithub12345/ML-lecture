{
 "cells": [
  {
   "cell_type": "code",
   "execution_count": 2,
   "id": "fe980891",
   "metadata": {},
   "outputs": [],
   "source": [
    "import pandas as pd"
   ]
  },
  {
   "cell_type": "markdown",
   "id": "29f7fabf",
   "metadata": {},
   "source": [
    "FINDING SUMMARY OF DATA AND UNDERSTANDING"
   ]
  },
  {
   "cell_type": "code",
   "execution_count": null,
   "id": "75bf3320",
   "metadata": {},
   "outputs": [],
   "source": [
    "data = {\n",
    "    \"Name\":['Ram','Shyam','Ravi'],\n",
    "    \"Age\":[10,20,30],\n",
    "    \"City\":['Nagpur','Mumbai','Delhi'], \n",
    "}\n",
    "df = pd.DataFrame(data)\n",
    "# df = pd.read_json(\"food_sample.json\")\n",
    "print(df.info())"
   ]
  }
 ],
 "metadata": {
  "kernelspec": {
   "display_name": "myenv",
   "language": "python",
   "name": "python3"
  },
  "language_info": {
   "codemirror_mode": {
    "name": "ipython",
    "version": 3
   },
   "file_extension": ".py",
   "mimetype": "text/x-python",
   "name": "python",
   "nbconvert_exporter": "python",
   "pygments_lexer": "ipython3",
   "version": "3.12.6"
  }
 },
 "nbformat": 4,
 "nbformat_minor": 5
}
