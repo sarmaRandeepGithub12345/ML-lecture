{
 "cells": [
  {
   "cell_type": "code",
   "execution_count": 2,
   "id": "e0384237",
   "metadata": {},
   "outputs": [],
   "source": [
    "import pandas as pd"
   ]
  },
  {
   "cell_type": "markdown",
   "id": "0faa288a",
   "metadata": {},
   "source": [
    "READ DATA FROM CSV FILE INTO A DATAFRAME"
   ]
  },
  {
   "cell_type": "code",
   "execution_count": null,
   "id": "47908a52",
   "metadata": {},
   "outputs": [],
   "source": [
    "df = pd.read_csv(\"sales_data_sample.csv\", encoding=\"latin1\")\n",
    "print(df)"
   ]
  },
  {
   "cell_type": "markdown",
   "id": "2fdf144c",
   "metadata": {},
   "source": [
    "READ DATA FROM XLSX FILE INTO A DATAFRAME"
   ]
  },
  {
   "cell_type": "code",
   "execution_count": null,
   "id": "5a6299c6",
   "metadata": {},
   "outputs": [],
   "source": [
    "df = pd.read_excel(\"Superstore.xlsx\")\n",
    "print(df)"
   ]
  },
  {
   "cell_type": "markdown",
   "id": "910a8676",
   "metadata": {},
   "source": [
    "READ FILE FROM JSON"
   ]
  },
  {
   "cell_type": "code",
   "execution_count": null,
   "id": "044d0ad3",
   "metadata": {},
   "outputs": [],
   "source": [
    "df = pd.read_json(\"food_sample.json\")\n",
    "print(df)"
   ]
  }
 ],
 "metadata": {
  "kernelspec": {
   "display_name": "myenv",
   "language": "python",
   "name": "python3"
  },
  "language_info": {
   "codemirror_mode": {
    "name": "ipython",
    "version": 3
   },
   "file_extension": ".py",
   "mimetype": "text/x-python",
   "name": "python",
   "nbconvert_exporter": "python",
   "pygments_lexer": "ipython3",
   "version": "3.12.6"
  }
 },
 "nbformat": 4,
 "nbformat_minor": 5
}
