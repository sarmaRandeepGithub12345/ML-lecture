{
 "cells": [
  {
   "cell_type": "code",
   "execution_count": 1,
   "id": "19078a43",
   "metadata": {},
   "outputs": [],
   "source": [
    "import pandas as pd"
   ]
  },
  {
   "cell_type": "code",
   "execution_count": null,
   "id": "1856a40a",
   "metadata": {},
   "outputs": [],
   "source": [
    "df = pd.read_json(\"food_sample.json\")\n",
    "print(\"Display 10 rows of first\")\n",
    "print(df.head(10))"
   ]
  },
  {
   "cell_type": "code",
   "execution_count": null,
   "id": "e9cb3607",
   "metadata": {},
   "outputs": [],
   "source": [
    "print(\"Display 10 rows of last\")\n",
    "print(df.tail(10))"
   ]
  }
 ],
 "metadata": {
  "kernelspec": {
   "display_name": "myenv",
   "language": "python",
   "name": "python3"
  },
  "language_info": {
   "codemirror_mode": {
    "name": "ipython",
    "version": 3
   },
   "file_extension": ".py",
   "mimetype": "text/x-python",
   "name": "python",
   "nbconvert_exporter": "python",
   "pygments_lexer": "ipython3",
   "version": "3.12.6"
  }
 },
 "nbformat": 4,
 "nbformat_minor": 5
}
