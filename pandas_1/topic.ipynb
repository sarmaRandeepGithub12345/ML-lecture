{
 "cells": [
  {
   "cell_type": "code",
   "execution_count": 1,
   "id": "cffcf155",
   "metadata": {},
   "outputs": [],
   "source": [
    "import pandas as pd"
   ]
  },
  {
   "cell_type": "markdown",
   "id": "580a907c",
   "metadata": {},
   "source": [
    "GETTING INFORMATION ABOUT NUMBER OF ROWS AND COLUMNS"
   ]
  },
  {
   "cell_type": "code",
   "execution_count": null,
   "id": "67d101a6",
   "metadata": {},
   "outputs": [],
   "source": [
    "data = {\n",
    "    \"Name\":['Ram','Shyam','Ravi','Dhanshyam','Shubam','Jagdish','Pravin','Nvain'],\n",
    "    \"Age\":[10,20,30,40,50,60,42,21],\n",
    "    \"Salary\":[50000,45000,60000,65070,30000,99000,56000,10000],\n",
    "    \"Performance Score\":[90,91,80,60,88,96,78,83],\n",
    "}\n",
    "df = pd.DataFrame(data)\n",
    "print(\"Shape:\\n\",df.shape)\n",
    "print(\"Column names:\\n\",df.columns)"
   ]
  }
 ],
 "metadata": {
  "kernelspec": {
   "display_name": "myenv",
   "language": "python",
   "name": "python3"
  },
  "language_info": {
   "codemirror_mode": {
    "name": "ipython",
    "version": 3
   },
   "file_extension": ".py",
   "mimetype": "text/x-python",
   "name": "python",
   "nbconvert_exporter": "python",
   "pygments_lexer": "ipython3",
   "version": "3.12.6"
  }
 },
 "nbformat": 4,
 "nbformat_minor": 5
}
