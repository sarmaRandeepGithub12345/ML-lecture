{
 "cells": [
  {
   "cell_type": "code",
   "execution_count": 2,
   "id": "676fd992",
   "metadata": {},
   "outputs": [],
   "source": [
    "import numpy as np\n",
    "import matplotlib.pyplot as plt"
   ]
  },
  {
   "cell_type": "code",
   "execution_count": 10,
   "id": "510e12f9",
   "metadata": {},
   "outputs": [],
   "source": [
    "array1 = np.array([[1,2,3],[4,5,6]])\n",
    "array2 = np.random.rand(3,3)\n",
    "array3 = np.zeros((4,4))"
   ]
  },
  {
   "cell_type": "code",
   "execution_count": 12,
   "id": "1f0274c5",
   "metadata": {},
   "outputs": [],
   "source": [
    "np.save('array1.npy',array1)\n",
    "np.save('array2.npy',array2)\n",
    "np.save('array3.npy',array3)"
   ]
  },
  {
   "cell_type": "code",
   "execution_count": null,
   "id": "c54aa158",
   "metadata": {},
   "outputs": [],
   "source": [
    "loaded_array1 = np.load('array1.npy')\n",
    "print(loaded_array1)"
   ]
  },
  {
   "cell_type": "code",
   "execution_count": null,
   "id": "3ed90bb1",
   "metadata": {},
   "outputs": [],
   "source": [
    "try:\n",
    "    logo = np.load('numpy-logo.npy')\n",
    "    #Display\n",
    "    plt.figure(figsize=(10,5))\n",
    "    plt.subplot(122)\n",
    "    plt.imshow(logo)\n",
    "    plt.title(\"Numpy Logo\")\n",
    "    plt.grid(False)\n",
    "\n",
    "    dark_logo = 1-logo\n",
    "    plt.subplot(121)\n",
    "    plt.imshow(dark_logo)\n",
    "    plt.title(\"Numpy Dark Logo\")\n",
    "    plt.grid(False)\n",
    "\n",
    "\n",
    "except FileNotFoundError:\n",
    "    print(\"numpy logo not found\")"
   ]
  }
 ],
 "metadata": {
  "kernelspec": {
   "display_name": "myenv",
   "language": "python",
   "name": "python3"
  },
  "language_info": {
   "codemirror_mode": {
    "name": "ipython",
    "version": 3
   },
   "file_extension": ".py",
   "mimetype": "text/x-python",
   "name": "python",
   "nbconvert_exporter": "python",
   "pygments_lexer": "ipython3",
   "version": "3.12.6"
  }
 },
 "nbformat": 4,
 "nbformat_minor": 5
}
