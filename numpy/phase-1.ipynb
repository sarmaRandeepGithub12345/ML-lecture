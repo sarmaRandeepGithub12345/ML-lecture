{
 "cells": [
  {
   "cell_type": "code",
   "execution_count": null,
   "id": "9e220ddf",
   "metadata": {},
   "outputs": [],
   "source": [
    "import numpy as np\n"
   ]
  },
  {
   "cell_type": "code",
   "execution_count": null,
   "id": "134d7502",
   "metadata": {},
   "outputs": [],
   "source": [
    "py_list = [1,2,3]\n",
    "print(\"Python list multiplication \",py_list*2)\n",
    "\n",
    "np_array = np.array([1,2,3])\n",
    "print(\"Python list multiplication \",np_array*2)\n",
    "\n",
    "import time\n",
    "start = time.time()\n",
    "py_list = [i*2 for i in range(1000000)]\n",
    "print(\"\\n List operation time:\",time.time()-start)\n",
    "\n",
    "start = time.time()\n",
    "np_array = np.arange(1000000) *2\n",
    "print(\"\\n Numpy operation time:\",time.time()-start)\n"
   ]
  },
  {
   "cell_type": "code",
   "execution_count": null,
   "id": "cd20aa3f",
   "metadata": {},
   "outputs": [],
   "source": [
    "zeroes = np.zeros((3,4))\n",
    "ones = np.ones((3,4))\n",
    "full = np.full((2,2),7)\n",
    "random = np.random.random((2,3))\n",
    "sequence = np.arange(0,10,2)\n",
    "print(\"random array: \\n\",sequence)"
   ]
  },
  {
   "cell_type": "code",
   "execution_count": null,
   "id": "3ec40f67",
   "metadata": {},
   "outputs": [],
   "source": [
    "vector = np.array([1,2,3])\n",
    "matrix = np.array([[1,2,3],[4,5,6]])\n",
    "tensor = np.array([[[1,2],[4,5]],\n",
    "                   [[5,6],[7,8]]])\n",
    "print(\"Vector:\",tensor)"
   ]
  },
  {
   "cell_type": "code",
   "execution_count": null,
   "id": "d935f367",
   "metadata": {},
   "outputs": [],
   "source": [
    "arr  = np.array([[1,2,3],[4,5,6]])\n",
    "\n",
    "print(\"Shape \",arr.shape)\n",
    "print(\"Dimension \",arr.ndim)\n",
    "print(\"data type \",arr.dtype)"
   ]
  },
  {
   "cell_type": "code",
   "execution_count": null,
   "id": "4ec1b87a",
   "metadata": {},
   "outputs": [],
   "source": [
    "arr = np.arange(12)\n",
    "print(\"Original array \",arr)\n",
    "\n",
    "reshape = arr.reshape((3,4))\n",
    "print(\"shape matrix \",reshape)\n",
    "\n",
    "raveled = reshape.ravel()\n",
    "print(\"ravel matrix \",raveled)\n",
    "\n",
    "transpose = reshape.T\n",
    "print(\"Transpose \",transpose)\n"
   ]
  }
 ],
 "metadata": {
  "kernelspec": {
   "display_name": "myenv",
   "language": "python",
   "name": "python3"
  },
  "language_info": {
   "codemirror_mode": {
    "name": "ipython",
    "version": 3
   },
   "file_extension": ".py",
   "mimetype": "text/x-python",
   "name": "python",
   "nbconvert_exporter": "python",
   "pygments_lexer": "ipython3",
   "version": "3.12.6"
  }
 },
 "nbformat": 4,
 "nbformat_minor": 5
}
