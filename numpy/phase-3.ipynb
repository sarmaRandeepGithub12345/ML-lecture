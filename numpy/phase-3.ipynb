{
 "cells": [
  {
   "cell_type": "code",
   "execution_count": null,
   "id": "89f8cad9",
   "metadata": {},
   "outputs": [],
   "source": [
    "import numpy as np\n",
    "import matplotlib.pyplot as plt"
   ]
  },
  {
   "cell_type": "code",
   "execution_count": null,
   "id": "77dc7065",
   "metadata": {},
   "outputs": [],
   "source": [
    "#restaurant_id,2022,2023,2024,2025\n",
    "sales_data = np.array([\n",
    "    [1,150000,180000,220000,250000],#Hotel1\n",
    "    [2,120000,140000,160000,190000],#Hotel2\n",
    "    [3,200000,230000,260000,300000],#Hotel3\n",
    "    [4,180000,210000,240000,270000],#Hotel4\n",
    "    [5,160000,185000,205000,230000],#Hotel5\n",
    "])\n",
    "print(\"==== sales analysis====\")\n",
    "# print(\"\\n sales data shape \", sales_data.shape)\n",
    "print(\"\\n Sample data for first three restaurant \", sales_data[0:3])\n",
    "#sales_data[0:,1:] skips 0th column and starts from 1st"
   ]
  },
  {
   "cell_type": "markdown",
   "id": "5be01726",
   "metadata": {},
   "source": [
    "Total Sales"
   ]
  },
  {
   "cell_type": "code",
   "execution_count": null,
   "id": "6c741a18",
   "metadata": {},
   "outputs": [],
   "source": [
    "#gives sales per year\n",
    "print(np.sum(sales_data,axis=0,))\n",
    "#skip 0th column,gives sales per year\n",
    "print(np.sum(sales_data[0:,1:],axis=0,))\n",
    "#skip 0th column,gives sales for each restaurant\n",
    "print(np.sum(sales_data[0:,1:],axis=1,))\n",
    "\n",
    "#minimum sales per restaurant(from each row)\n",
    "min_sales = np.min(sales_data[:,1:],axis=1)\n",
    "print(min_sales)\n",
    "#maximum sales per year(from each row)\n",
    "min_sales = np.max(sales_data[:,1:],axis=0)\n",
    "print(min_sales)\n",
    "\n",
    "#avaerage sales per restaurant\n",
    "print(np.mean(sales_data[:,1:],axis=1))\n"
   ]
  },
  {
   "cell_type": "code",
   "execution_count": null,
   "id": "1fdcc748",
   "metadata": {},
   "outputs": [],
   "source": [
    "import matplotlib.pyplot as plt\n",
    "#cumulative_sales\n",
    "# Syr1, Syr1 + Syr2, Syr1 + Syr2 + Syr3,.....\n",
    "cumulative_sales = np.cumsum(sales_data[:,1:],axis=1)\n",
    "print(cumulative_sales)\n",
    "\n",
    "plt.figure(figsize=(10,6))\n",
    "#take mean of cumulative sales array column wise\n",
    "plt.plot(np.mean(cumulative_sales,axis=0))\n",
    "plt.title(\"Averag cumulative sales accross all restaurant\")\n",
    "plt.xlabel(\"Years\")\n",
    "plt.ylabel(\"Sales\")\n",
    "plt.grid(True)\n",
    "plt.show()"
   ]
  },
  {
   "cell_type": "markdown",
   "id": "9c8623f0",
   "metadata": {},
   "source": [
    "Some Vector Operation"
   ]
  },
  {
   "cell_type": "code",
   "execution_count": null,
   "id": "89a48c03",
   "metadata": {},
   "outputs": [],
   "source": [
    "vector1 = np.array([[1,2,3],[6,7,8]])\n",
    "vector2 = np.array([[6,7,10],[54,6,7]])\n",
    "print(\"Vector addition\",vector1+vector2)\n",
    "print(\"Vector multiply\",vector1*vector2)\n",
    "\n",
    "vector1 = np.array([1,2,3,4,5])\n",
    "vector2 = np.array([6,7,8,9,10])\n",
    "print(\"Dot product\",np.dot(vector1,vector2))\n",
    "#np.dot(vector1,vector2) = 1.6+2.7+3.8+4.9+5.10 =130\n",
    "#np.linalg.norm(vector1) = sq root(1+4+9+16+25)\n",
    "#np.linalg.norm(vector2) = sq root(36+49+64+81+100)\n",
    "angle = np.arccos(np.dot(vector1,vector2)/(np.linalg.norm(vector1)*np.linalg.norm(vector2)))\n",
    "print(angle)"
   ]
  },
  {
   "cell_type": "code",
   "execution_count": null,
   "id": "998d084c",
   "metadata": {},
   "outputs": [],
   "source": [
    "restaurant_types = np.array(['biryani','chinese','pizza','burger','cafe'])\n",
    "#NumPy arrays don’t natively apply string functions like capitalize() element-wise.\n",
    "#So you use:\n",
    "vectorized_upper = np.vectorize(str.capitalize)\n",
    "print(\"Vectorized upper\",vectorized_upper(restaurant_types))"
   ]
  },
  {
   "cell_type": "code",
   "execution_count": null,
   "id": "c2cc7b7b",
   "metadata": {},
   "outputs": [],
   "source": [
    "monthly_avg = sales_data[:,1:]/10000\n",
    "print(monthly_avg)"
   ]
  }
 ],
 "metadata": {
  "kernelspec": {
   "display_name": "myenv",
   "language": "python",
   "name": "python3"
  },
  "language_info": {
   "codemirror_mode": {
    "name": "ipython",
    "version": 3
   },
   "file_extension": ".py",
   "mimetype": "text/x-python",
   "name": "python",
   "nbconvert_exporter": "python",
   "pygments_lexer": "ipython3",
   "version": "3.12.6"
  }
 },
 "nbformat": 4,
 "nbformat_minor": 5
}
