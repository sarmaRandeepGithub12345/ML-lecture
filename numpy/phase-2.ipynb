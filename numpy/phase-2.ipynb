{
 "cells": [
  {
   "cell_type": "code",
   "execution_count": 2,
   "id": "4c0c6125",
   "metadata": {},
   "outputs": [],
   "source": [
    "import numpy as np"
   ]
  },
  {
   "cell_type": "code",
   "execution_count": null,
   "id": "68fbfff0",
   "metadata": {},
   "outputs": [],
   "source": [
    "arr = np.array([1,2,3,4,5,6,7,8,9,10])\n",
    "print(\"Basic Slicing\", arr[2:7])\n",
    "print(\"With Step\", arr[1:8:2])\n",
    "print(\"Negative indexing\",arr[-3])"
   ]
  },
  {
   "cell_type": "code",
   "execution_count": null,
   "id": "68cc3381",
   "metadata": {},
   "outputs": [],
   "source": [
    "arr_2d = np.array([[1,2,3],[4,5,6],[7,8,9]])\n",
    "print(\"Specific element\",arr_2d[1,2])\n",
    "print(\"Entire row\",arr_2d[1])\n",
    "print(\"Entire col\",arr_2d[:,1])"
   ]
  },
  {
   "cell_type": "code",
   "execution_count": null,
   "id": "28a37f39",
   "metadata": {},
   "outputs": [],
   "source": [
    "unsorted = np.array([3,2,4,2,25,7])\n",
    "print(\"Sorted\",np.sort(unsorted))\n",
    "\n",
    "arr_2d_unsorted = np.array([[3,1],[1,2],[2,3]])\n",
    "print(\"Sorted 2d array sorted by column\",np.sort(arr_2d_unsorted,axis=0))\n"
   ]
  },
  {
   "cell_type": "markdown",
   "id": "f6d77b11",
   "metadata": {},
   "source": [
    "Filter"
   ]
  },
  {
   "cell_type": "code",
   "execution_count": null,
   "id": "5540c4b8",
   "metadata": {},
   "outputs": [],
   "source": [
    "numbers = np.array([1,2,3,4,5,6,7,8,9,10])\n",
    "even_number = numbers[numbers % 2==0]\n",
    "print(\"even num \",even_number)"
   ]
  },
  {
   "cell_type": "markdown",
   "id": "449a80b0",
   "metadata": {},
   "source": [
    "Filter with Mask"
   ]
  },
  {
   "cell_type": "code",
   "execution_count": null,
   "id": "6fe6c12a",
   "metadata": {},
   "outputs": [],
   "source": [
    "mask = numbers>5##story the expression like a+b\n",
    "print(\"Numbers greater than 5 \",numbers[mask])"
   ]
  },
  {
   "cell_type": "markdown",
   "id": "cbdc8621",
   "metadata": {},
   "source": [
    "Fancy Indexing vs np.where()"
   ]
  },
  {
   "cell_type": "code",
   "execution_count": null,
   "id": "cccea1a4",
   "metadata": {},
   "outputs": [],
   "source": [
    "indices = [0,2,4]\n",
    "print(numbers[indices])\n",
    "where_result = np.where(numbers>5)\n",
    "print(where_result)#array indexes are stored\n",
    "print(\"Np where: \",numbers[where_result])#like masking"
   ]
  },
  {
   "cell_type": "code",
   "execution_count": null,
   "id": "5994e219",
   "metadata": {},
   "outputs": [],
   "source": [
    "conditions_array = np.where(numbers>5,numbers*2,numbers)\n",
    "print(conditions_array)# if number>5,then multiply by 2"
   ]
  },
  {
   "cell_type": "markdown",
   "id": "6c6e0fbd",
   "metadata": {},
   "source": [
    "Adding and removing data"
   ]
  },
  {
   "cell_type": "code",
   "execution_count": null,
   "id": "41f2f5f0",
   "metadata": {},
   "outputs": [],
   "source": [
    "arr1 = np.array([1,2,3])\n",
    "arr2 = np.array([4,5,6])\n",
    "combined = arr1 + arr2\n",
    "combined2 = np.concatenate([arr1,arr2])\n",
    "print(combined2)"
   ]
  },
  {
   "cell_type": "markdown",
   "id": "fcf11cf9",
   "metadata": {},
   "source": [
    "Array Compatibility"
   ]
  },
  {
   "cell_type": "code",
   "execution_count": null,
   "id": "cd616b15",
   "metadata": {},
   "outputs": [],
   "source": [
    "a = np.array([1,2,3])\n",
    "b = np.array([4,5,6,4])\n",
    "c = np.array([7,8,9])\n",
    "print(\"Compatibility shapes a-b\",a.shape == b.shape)#false\n",
    "print(\"Compatibility shapes a-c\",a.shape == c.shape)#true"
   ]
  },
  {
   "cell_type": "code",
   "execution_count": null,
   "id": "aa36079f",
   "metadata": {},
   "outputs": [],
   "source": [
    "original = np.array([[1,2],[3,4]])\n",
    "new_row = np.array([[5,6]])\n",
    "with_new_row = np.vstack((original,new_row))#adds new row\n",
    "print(original)\n",
    "print(with_new_row)\n",
    "\n",
    "new_col = np.array([[7],[8]])\n",
    "with_new_col = np.hstack((original,new_col))\n",
    "print(with_new_col)"
   ]
  },
  {
   "cell_type": "markdown",
   "id": "f21d3842",
   "metadata": {},
   "source": [
    "Delete"
   ]
  },
  {
   "cell_type": "code",
   "execution_count": null,
   "id": "43f7ed78",
   "metadata": {},
   "outputs": [
    {
     "name": "stdout",
     "output_type": "stream",
     "text": [
      "[1 2 4 5]\n"
     ]
    }
   ],
   "source": [
    "arr = np.array([1,2,3,4,5])\n",
    "deleted = np.delete(arr,2)\n",
    "print(\"array after deletion\",deleted)"
   ]
  }
 ],
 "metadata": {
  "kernelspec": {
   "display_name": "myenv",
   "language": "python",
   "name": "python3"
  },
  "language_info": {
   "codemirror_mode": {
    "name": "ipython",
    "version": 3
   },
   "file_extension": ".py",
   "mimetype": "text/x-python",
   "name": "python",
   "nbconvert_exporter": "python",
   "pygments_lexer": "ipython3",
   "version": "3.12.6"
  }
 },
 "nbformat": 4,
 "nbformat_minor": 5
}
